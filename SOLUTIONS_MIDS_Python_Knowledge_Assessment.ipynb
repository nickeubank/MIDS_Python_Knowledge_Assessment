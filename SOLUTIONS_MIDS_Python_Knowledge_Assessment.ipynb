{
 "cells": [
  {
   "cell_type": "markdown",
   "metadata": {},
   "source": [
    "# Summer Python Skill Assessment"
   ]
  },
  {
   "cell_type": "markdown",
   "metadata": {},
   "source": [
    "## Part 1: Closed Book Question\n",
    "\n",
    "**(1)**"
   ]
  },
  {
   "cell_type": "code",
   "execution_count": 5,
   "metadata": {},
   "outputs": [
    {
     "name": "stdout",
     "output_type": "stream",
     "text": [
      "10\n"
     ]
    }
   ],
   "source": [
    "x = 0\n",
    "for i in range(5):\n",
    "    x = x + i\n",
    "print(x)"
   ]
  },
  {
   "cell_type": "markdown",
   "metadata": {},
   "source": [
    "**(2)**"
   ]
  },
  {
   "cell_type": "code",
   "execution_count": 8,
   "metadata": {},
   "outputs": [
    {
     "name": "stdout",
     "output_type": "stream",
     "text": [
      "[1, 2, 3, 4]\n"
     ]
    }
   ],
   "source": [
    "x = [1, 2, 3]\n",
    "y = x\n",
    "\n",
    "x.append(4) \n",
    "# Note: `.append(4)` will add the number 4 as the last entry \n",
    "# in the list associated with x.\n",
    "\n",
    "print(y)"
   ]
  },
  {
   "cell_type": "markdown",
   "metadata": {},
   "source": [
    "**(3)**"
   ]
  },
  {
   "cell_type": "code",
   "execution_count": 11,
   "metadata": {},
   "outputs": [
    {
     "name": "stdout",
     "output_type": "stream",
     "text": [
      "this is a string\n"
     ]
    }
   ],
   "source": [
    "x = 'this is a string'\n",
    "y = x\n",
    "x = x.upper()\n",
    "print(y)"
   ]
  },
  {
   "cell_type": "markdown",
   "metadata": {},
   "source": [
    "## Part 2: Basic Python"
   ]
  },
  {
   "cell_type": "markdown",
   "metadata": {},
   "source": [
    "**(1)** What is the type of the variable x defined as `x = \"42\"`?"
   ]
  },
  {
   "cell_type": "code",
   "execution_count": 1,
   "metadata": {},
   "outputs": [
    {
     "data": {
      "text/plain": [
       "str"
      ]
     },
     "execution_count": 1,
     "metadata": {},
     "output_type": "execute_result"
    }
   ],
   "source": [
    "type(\"42\")"
   ]
  },
  {
   "cell_type": "markdown",
   "metadata": {},
   "source": [
    "**(2)** Consider the list `my_list = [42, 47, 1.168, 3.14, 8, -5]`. What code would return the *second* and *third* entries of `my_list`?"
   ]
  },
  {
   "cell_type": "code",
   "execution_count": 2,
   "metadata": {},
   "outputs": [
    {
     "data": {
      "text/plain": [
       "[47, 1.168]"
      ]
     },
     "execution_count": 2,
     "metadata": {},
     "output_type": "execute_result"
    }
   ],
   "source": [
    "my_list = [42, 47, 1.168, 3.14, 8, -5]\n",
    "my_list[1:3]"
   ]
  },
  {
   "cell_type": "markdown",
   "metadata": {},
   "source": [
    "**(3)** What code would return the last entry of `my_list`?"
   ]
  },
  {
   "cell_type": "code",
   "execution_count": 3,
   "metadata": {},
   "outputs": [
    {
     "data": {
      "text/plain": [
       "-5"
      ]
     },
     "execution_count": 3,
     "metadata": {},
     "output_type": "execute_result"
    }
   ],
   "source": [
    "my_list[5]\n",
    "\n",
    "# or \n",
    "\n",
    "my_list[-1]"
   ]
  },
  {
   "cell_type": "markdown",
   "metadata": {},
   "source": [
    "**(4)** What is the value of $\\frac{5^{3}}{12 * 5}$ (rounded to two decimal places)"
   ]
  },
  {
   "cell_type": "code",
   "execution_count": 3,
   "metadata": {},
   "outputs": [
    {
     "data": {
      "text/plain": [
       "2.08"
      ]
     },
     "execution_count": 3,
     "metadata": {},
     "output_type": "execute_result"
    }
   ],
   "source": [
    "round((5**3) / (12*5), ndigits=2)"
   ]
  },
  {
   "cell_type": "markdown",
   "metadata": {},
   "source": [
    "**(5)** Add up all the odd numbers from 1 to 153 (e.g. 1, 2, 3, ... , 150, 151, 153)."
   ]
  },
  {
   "cell_type": "code",
   "execution_count": 9,
   "metadata": {},
   "outputs": [
    {
     "data": {
      "text/plain": [
       "5929"
      ]
     },
     "execution_count": 9,
     "metadata": {},
     "output_type": "execute_result"
    }
   ],
   "source": [
    "# One way: \n",
    "sum([i for i in range(154) if i % 2 == 1])\n",
    "\n",
    "# Or: \n",
    "total = 0\n",
    "for i in range(154):\n",
    "    if (i % 2 == 1):\n",
    "        total += i\n",
    "total\n",
    "\n",
    "# Or: \n",
    "sum(range(1, 154, 2))"
   ]
  },
  {
   "cell_type": "markdown",
   "metadata": {},
   "source": [
    "## Part 2: Basic Data Analysis\n",
    "Below, you're given a list of 500 random integers. Use that list to answer the following questions."
   ]
  },
  {
   "cell_type": "markdown",
   "metadata": {},
   "source": [
    "**(1)** What is the difference between the largest and the smallest number in this list?"
   ]
  },
  {
   "cell_type": "markdown",
   "metadata": {},
   "source": [
    "**(2)** What is the mean of this list?"
   ]
  },
  {
   "cell_type": "markdown",
   "metadata": {},
   "source": [
    "**(3)** How many of the numbers in the list are multiples of 251? For example, since 251\\*2 = 502, then 502 is a multiple of 251."
   ]
  },
  {
   "cell_type": "markdown",
   "metadata": {},
   "source": [
    "**(4)** What is the mean of the odd values in this list?"
   ]
  },
  {
   "cell_type": "code",
   "execution_count": 3,
   "metadata": {},
   "outputs": [
    {
     "name": "stdout",
     "output_type": "stream",
     "text": [
      "[117356  79193 402701 117143 285000 306938 482663 340715 187037 489099\n",
      " 361681 301630 237033 384878 202395 455706  66008 310263 272876 121377\n",
      " 364536 164101 393166 244875 302731  79361  61911 236629 243846 376358\n",
      " 271993 313446 268330 493289 426216   8772 427728  95557 332750 273582\n",
      "  68988  16146 130812 185335 153473 224416 213770 365756  49180 103414\n",
      " 172251 436012 294647  75763 274690   3965 348488 178281 490176 370571\n",
      " 100398 417520 305183 447380 386626 404538 385612 153806 211282 342374\n",
      "  60174 338873 423248 214698 168576 476438  43534 254276 165950 274763\n",
      "  65263 386490 268751  57949 343279 450493 298506   4431 211333 108723\n",
      " 270822 481845  16642 329868 165861 405362 323972 471053 211869  81750\n",
      " 313833 134546  79188 270712 137777 354212 274024 298962 291211  74549\n",
      "   3903 306390 288309 201028 494905 447463 403450 144433 423241 433646\n",
      " 112309 152164 285783 194007 463801 474381 306739   9276 452346 230477\n",
      " 481080  83746 366033  68800 426501 280396  45408 420537 135292 251291\n",
      " 118194  13085 249639  38281 156515 132476 417382 194205  74306 343248\n",
      " 263715 191233 354267   8348 495020 365868 471620 222228 152316 322068\n",
      " 217820  49359 285387  21583 350203 145641 101231 430336  59550 463147\n",
      " 183715 305827 302543 188453 237000  95144 372070  18455  69706 301087\n",
      " 493934  13652 275401 122461 315542 388819  60478 415747 406506 473085\n",
      " 150724  57940  94885 101176 198385 101413  71350 276904 280074 290324\n",
      " 178205 247621 284356 210916 487022  41202 230490 448883 277469 422523\n",
      " 144934 236785 312883 185775 335966  89719 234304  39807 168712 348289\n",
      "  63803  10550   6449 170069  35589 477263  14060 384474 357074  30968\n",
      " 187681 318956  23927 435999 166127  54628 101576 461472 340576 185647\n",
      " 260394  32365 336439 384599  48015 152403  16347 117748 403583 364162\n",
      " 211166 203736  49466 306523 428396 114866 261539 440881 362763 159729\n",
      " 425294 482596 299292 355930 111776  98824   3921 273758 118399 430826\n",
      " 438208 381271 339900  80657  50203 474743 471600 353567 450765 296258\n",
      "  33415 104288 367591 323201 354633 424392 131955  28204 313363 290467\n",
      " 376520 170149 214179 205539 163528  61034 322362 376660 184010 309345\n",
      " 286925 323248 474445 473328 477337 390292 214228 229392 324264  91835\n",
      " 390826 402078 335505 472759 155112 202409 283000 102724 196553 310444\n",
      " 262396 157409 199013 267656 484045 208658 201896 113097 347062 364805\n",
      " 250666 222504 376317 479592 493836 229781 359432 272322 341494  16717\n",
      " 280897  39074 334878 101829  67820 488769 247540 143353 285099 140820\n",
      " 300867 495427 373674  49985  69313 198232 223241 497281 421842  79169\n",
      " 496639 299713 255833 432043  12777 437581 291642 148043 477607 112096\n",
      "  67864  44283  69392 382337 284343 293189 180281 291319 363481 435428\n",
      " 459072 443134  11440 186101 275322 227867 324407 422703 482207 188337\n",
      "  32275  17736 451824 335077 479673   4951 421401 459572 355113 412146\n",
      " 249808 138691 314608 260414 376289 383590 162707 258334 434896  53880\n",
      " 374156 230751 374337 290961  66454 326880 488671 405650 313874 400569\n",
      "  32656 461726 304489  15001  33060 481390 181060  37369 412141 366134\n",
      "  85716 113532 246890 258636 391593 363026 282380 227961 367884 383101\n",
      " 267678  98615 153772 448604  44697 109702  55407  97120 170272  85218\n",
      " 362417  12991 315547  13608 191483 361957 473101  27746 369041 379912\n",
      " 360818 323716 109783  79343  86940  44999 263884 233513 130902 317999\n",
      " 353540 254496 241344 327760 175980 197694 457353 442152 181599 497937\n",
      " 346809 425322 325502 311691 289366 427003   5406 313027  79199 397995\n",
      "  98327 323324  68021 211022 331601 187769 479679 227348   5848 382203]\n"
     ]
    }
   ],
   "source": [
    "# Generate the 500 random numbers [DO NOT MODIFY THIS CODE]\n",
    "import numpy as np\n",
    "np.random.seed(14) # This guarantees the code will generate the same set of random numbers whenever executed\n",
    "random_integers = np.random.randint(1,high=500000, size=(500))\n",
    "\n",
    "print(random_integers)"
   ]
  },
  {
   "cell_type": "markdown",
   "metadata": {},
   "source": [
    "## Part 3: Implementing Equations\n",
    "**(1)** Implement the following equation as Python code, and determine what its value is for $x=1$. What is the value of $y$ to 5 decimal places? \n",
    "\n",
    "$$y = 4\\sum_{n=0}^{10^6} \\frac{(-1)^n}{2n+1}x^{2n+1}$$\n",
    "\n",
    "*Hint: if all goes well, you should see a familiar number*"
   ]
  },
  {
   "cell_type": "markdown",
   "metadata": {},
   "source": [
    "## Part 4: Loading data and answering questions for a real dataset\n",
    "\n",
    "For this part, we'll be using data on US power plants that you can download from this url: [https://bit.ly/2Mlt8lR](https://bit.ly/2Mlt8lR) (that code is the number 2, capital M, lower case L, lower case t, the number 8, lower case L, capital R). The file is a comma-separated value spreadsheet (CSV) called `egrid2016.csv`. \n",
    "\n",
    "This is the dataset we'll be exploring through the following exercises. This dataset is the Environmental Protection Agency's (EPA) [Emissions & Generation Resource Integrated Database (eGRID)](https://www.epa.gov/energy/emissions-generation-resource-integrated-database-egrid) containing information about all power plants in the United States, the amount of genereration they produce, what fuel they use, the location of the plant, and many more quantities. We'll be using a subset of those data.\n",
    "\n",
    "The fields we'll be using include:\t\t\t\t\t\n",
    "    \n",
    "|field    |description|\n",
    "|:-----   |:-----|\n",
    "|SEQPLT16 |eGRID2016 Plant file sequence number (the index)| \n",
    "|PSTATABB |Plant state abbreviation|\n",
    "|PNAME    |Plant name |\n",
    "|PLPRMFL  |Plant primary fuel |\n",
    "|CAPFAC   |Plant capacity factor |\n",
    "|NAMEPCAP |Plant nameplate capacity (Megawatts MW)|\n",
    "|PLNGENAN |Plant annual net generation (Megawatt-hours MWh)|\n",
    "|PLCO2EQA |Plant annual CO2 equivalent emissions (tons)|\n",
    "\n",
    "\n",
    "### Analyzing the CSV\n",
    "\n",
    "For this CSV dataset, your goal is answer the following questions about electricity generation in the United States:\n",
    "\n",
    "**(1)** Which plant has generated the most energy (measured in MWh)?"
   ]
  },
  {
   "cell_type": "code",
   "execution_count": 6,
   "metadata": {},
   "outputs": [
    {
     "data": {
      "text/html": [
       "<div>\n",
       "<style scoped>\n",
       "    .dataframe tbody tr th:only-of-type {\n",
       "        vertical-align: middle;\n",
       "    }\n",
       "\n",
       "    .dataframe tbody tr th {\n",
       "        vertical-align: top;\n",
       "    }\n",
       "\n",
       "    .dataframe thead th {\n",
       "        text-align: right;\n",
       "    }\n",
       "</style>\n",
       "<table border=\"1\" class=\"dataframe\">\n",
       "  <thead>\n",
       "    <tr style=\"text-align: right;\">\n",
       "      <th></th>\n",
       "      <th>SEQPLT16</th>\n",
       "      <th>PSTATABB</th>\n",
       "      <th>PNAME</th>\n",
       "      <th>PLPRMFL</th>\n",
       "      <th>CAPFAC</th>\n",
       "      <th>NAMEPCAP</th>\n",
       "      <th>PLNGENAN</th>\n",
       "      <th>PLCO2EQA</th>\n",
       "    </tr>\n",
       "  </thead>\n",
       "  <tbody>\n",
       "    <tr>\n",
       "      <th>0</th>\n",
       "      <td>1</td>\n",
       "      <td>AK</td>\n",
       "      <td>7-Mile Ridge Wind Project</td>\n",
       "      <td>WND</td>\n",
       "      <td>NaN</td>\n",
       "      <td>1.8</td>\n",
       "      <td>NaN</td>\n",
       "      <td>NaN</td>\n",
       "    </tr>\n",
       "    <tr>\n",
       "      <th>1</th>\n",
       "      <td>2</td>\n",
       "      <td>AK</td>\n",
       "      <td>Agrium Kenai Nitrogen Operations</td>\n",
       "      <td>NG</td>\n",
       "      <td>NaN</td>\n",
       "      <td>21.6</td>\n",
       "      <td>NaN</td>\n",
       "      <td>NaN</td>\n",
       "    </tr>\n",
       "    <tr>\n",
       "      <th>2</th>\n",
       "      <td>3</td>\n",
       "      <td>AK</td>\n",
       "      <td>Alakanuk</td>\n",
       "      <td>DFO</td>\n",
       "      <td>0.0533</td>\n",
       "      <td>2.6</td>\n",
       "      <td>1213.0</td>\n",
       "      <td>1,050</td>\n",
       "    </tr>\n",
       "    <tr>\n",
       "      <th>3</th>\n",
       "      <td>4</td>\n",
       "      <td>AK</td>\n",
       "      <td>Allison Creek Hydro</td>\n",
       "      <td>WAT</td>\n",
       "      <td>0.0155</td>\n",
       "      <td>6.5</td>\n",
       "      <td>881.0</td>\n",
       "      <td>0</td>\n",
       "    </tr>\n",
       "    <tr>\n",
       "      <th>4</th>\n",
       "      <td>5</td>\n",
       "      <td>AK</td>\n",
       "      <td>Ambler</td>\n",
       "      <td>DFO</td>\n",
       "      <td>0.1366</td>\n",
       "      <td>1.1</td>\n",
       "      <td>1316.0</td>\n",
       "      <td>1,088</td>\n",
       "    </tr>\n",
       "  </tbody>\n",
       "</table>\n",
       "</div>"
      ],
      "text/plain": [
       "   SEQPLT16 PSTATABB                             PNAME PLPRMFL  CAPFAC  \\\n",
       "0         1       AK         7-Mile Ridge Wind Project     WND     NaN   \n",
       "1         2       AK  Agrium Kenai Nitrogen Operations      NG     NaN   \n",
       "2         3       AK                          Alakanuk     DFO  0.0533   \n",
       "3         4       AK               Allison Creek Hydro     WAT  0.0155   \n",
       "4         5       AK                            Ambler     DFO  0.1366   \n",
       "\n",
       "  NAMEPCAP  PLNGENAN PLCO2EQA  \n",
       "0      1.8       NaN      NaN  \n",
       "1     21.6       NaN      NaN  \n",
       "2      2.6    1213.0    1,050  \n",
       "3      6.5     881.0        0  \n",
       "4      1.1    1316.0    1,088  "
      ]
     },
     "execution_count": 6,
     "metadata": {},
     "output_type": "execute_result"
    }
   ],
   "source": [
    "import pandas as pd\n",
    "egrid = pd.read_csv('/users/nick/downloads/egrid2016.csv')\n",
    "egrid.head()"
   ]
  },
  {
   "cell_type": "code",
   "execution_count": 8,
   "metadata": {},
   "outputs": [
    {
     "data": {
      "text/html": [
       "<div>\n",
       "<style scoped>\n",
       "    .dataframe tbody tr th:only-of-type {\n",
       "        vertical-align: middle;\n",
       "    }\n",
       "\n",
       "    .dataframe tbody tr th {\n",
       "        vertical-align: top;\n",
       "    }\n",
       "\n",
       "    .dataframe thead th {\n",
       "        text-align: right;\n",
       "    }\n",
       "</style>\n",
       "<table border=\"1\" class=\"dataframe\">\n",
       "  <thead>\n",
       "    <tr style=\"text-align: right;\">\n",
       "      <th></th>\n",
       "      <th>SEQPLT16</th>\n",
       "      <th>PSTATABB</th>\n",
       "      <th>PNAME</th>\n",
       "      <th>PLPRMFL</th>\n",
       "      <th>CAPFAC</th>\n",
       "      <th>NAMEPCAP</th>\n",
       "      <th>PLNGENAN</th>\n",
       "      <th>PLCO2EQA</th>\n",
       "    </tr>\n",
       "  </thead>\n",
       "  <tbody>\n",
       "    <tr>\n",
       "      <th>390</th>\n",
       "      <td>391</td>\n",
       "      <td>AZ</td>\n",
       "      <td>Palo Verde</td>\n",
       "      <td>NUC</td>\n",
       "      <td>0.878</td>\n",
       "      <td>4,209.60</td>\n",
       "      <td>32377477.0</td>\n",
       "      <td>0</td>\n",
       "    </tr>\n",
       "  </tbody>\n",
       "</table>\n",
       "</div>"
      ],
      "text/plain": [
       "     SEQPLT16 PSTATABB       PNAME PLPRMFL  CAPFAC  NAMEPCAP    PLNGENAN  \\\n",
       "390       391       AZ  Palo Verde     NUC   0.878  4,209.60  32377477.0   \n",
       "\n",
       "    PLCO2EQA  \n",
       "390        0  "
      ]
     },
     "execution_count": 8,
     "metadata": {},
     "output_type": "execute_result"
    }
   ],
   "source": [
    "egrid.loc[egrid['PLNGENAN'] == egrid['PLNGENAN'].max()]"
   ]
  },
  {
   "cell_type": "markdown",
   "metadata": {},
   "source": [
    "**(2)** What plant has the highest annual CO2 emissions? \n",
    "\n",
    "*Note: there's a trick to this, so if you get stuck and don't immediately understand the problem, just move on*"
   ]
  },
  {
   "cell_type": "code",
   "execution_count": 18,
   "metadata": {},
   "outputs": [
    {
     "data": {
      "text/html": [
       "<div>\n",
       "<style scoped>\n",
       "    .dataframe tbody tr th:only-of-type {\n",
       "        vertical-align: middle;\n",
       "    }\n",
       "\n",
       "    .dataframe tbody tr th {\n",
       "        vertical-align: top;\n",
       "    }\n",
       "\n",
       "    .dataframe thead th {\n",
       "        text-align: right;\n",
       "    }\n",
       "</style>\n",
       "<table border=\"1\" class=\"dataframe\">\n",
       "  <thead>\n",
       "    <tr style=\"text-align: right;\">\n",
       "      <th></th>\n",
       "      <th>SEQPLT16</th>\n",
       "      <th>PSTATABB</th>\n",
       "      <th>PNAME</th>\n",
       "      <th>PLPRMFL</th>\n",
       "      <th>CAPFAC</th>\n",
       "      <th>NAMEPCAP</th>\n",
       "      <th>PLNGENAN</th>\n",
       "      <th>PLCO2EQA</th>\n",
       "      <th>co2</th>\n",
       "    </tr>\n",
       "  </thead>\n",
       "  <tbody>\n",
       "    <tr>\n",
       "      <th>191</th>\n",
       "      <td>192</td>\n",
       "      <td>AL</td>\n",
       "      <td>James H Miller Jr</td>\n",
       "      <td>SUB</td>\n",
       "      <td>0.7359</td>\n",
       "      <td>2,822.00</td>\n",
       "      <td>18193039.0</td>\n",
       "      <td>21,724,990</td>\n",
       "      <td>21724990.0</td>\n",
       "    </tr>\n",
       "  </tbody>\n",
       "</table>\n",
       "</div>"
      ],
      "text/plain": [
       "     SEQPLT16 PSTATABB              PNAME PLPRMFL  CAPFAC  NAMEPCAP  \\\n",
       "191       192       AL  James H Miller Jr     SUB  0.7359  2,822.00   \n",
       "\n",
       "       PLNGENAN    PLCO2EQA         co2  \n",
       "191  18193039.0  21,724,990  21724990.0  "
      ]
     },
     "execution_count": 18,
     "metadata": {},
     "output_type": "execute_result"
    }
   ],
   "source": [
    "egrid['co2'] = egrid['PLCO2EQA'].str.replace(',', '')\n",
    "egrid['co2'] = egrid['co2'].str.replace('NaN', '')\n",
    "egrid['co2'] = egrid['co2'].astype('float')\n",
    "egrid.loc[egrid['co2'] == egrid['co2'].max()]"
   ]
  },
  {
   "cell_type": "markdown",
   "metadata": {},
   "source": [
    "**(3)** What state has the second largest power plant (by average annual net generation) in the country?"
   ]
  },
  {
   "cell_type": "code",
   "execution_count": 21,
   "metadata": {},
   "outputs": [
    {
     "data": {
      "text/html": [
       "<div>\n",
       "<style scoped>\n",
       "    .dataframe tbody tr th:only-of-type {\n",
       "        vertical-align: middle;\n",
       "    }\n",
       "\n",
       "    .dataframe tbody tr th {\n",
       "        vertical-align: top;\n",
       "    }\n",
       "\n",
       "    .dataframe thead th {\n",
       "        text-align: right;\n",
       "    }\n",
       "</style>\n",
       "<table border=\"1\" class=\"dataframe\">\n",
       "  <thead>\n",
       "    <tr style=\"text-align: right;\">\n",
       "      <th></th>\n",
       "      <th>SEQPLT16</th>\n",
       "      <th>PSTATABB</th>\n",
       "      <th>PNAME</th>\n",
       "      <th>PLPRMFL</th>\n",
       "      <th>CAPFAC</th>\n",
       "      <th>NAMEPCAP</th>\n",
       "      <th>PLNGENAN</th>\n",
       "      <th>PLCO2EQA</th>\n",
       "      <th>co2</th>\n",
       "    </tr>\n",
       "  </thead>\n",
       "  <tbody>\n",
       "    <tr>\n",
       "      <th>390</th>\n",
       "      <td>391</td>\n",
       "      <td>AZ</td>\n",
       "      <td>Palo Verde</td>\n",
       "      <td>NUC</td>\n",
       "      <td>0.8780</td>\n",
       "      <td>4,209.60</td>\n",
       "      <td>32377477.0</td>\n",
       "      <td>0</td>\n",
       "      <td>0.0</td>\n",
       "    </tr>\n",
       "    <tr>\n",
       "      <th>164</th>\n",
       "      <td>165</td>\n",
       "      <td>AL</td>\n",
       "      <td>Browns Ferry</td>\n",
       "      <td>NUC</td>\n",
       "      <td>0.8565</td>\n",
       "      <td>3,494.00</td>\n",
       "      <td>26214623.0</td>\n",
       "      <td>0</td>\n",
       "      <td>0.0</td>\n",
       "    </tr>\n",
       "    <tr>\n",
       "      <th>7966</th>\n",
       "      <td>7967</td>\n",
       "      <td>PA</td>\n",
       "      <td>Peach Bottom</td>\n",
       "      <td>NUC</td>\n",
       "      <td>0.8968</td>\n",
       "      <td>2,784.60</td>\n",
       "      <td>21875435.0</td>\n",
       "      <td>0</td>\n",
       "      <td>0.0</td>\n",
       "    </tr>\n",
       "    <tr>\n",
       "      <th>8764</th>\n",
       "      <td>8765</td>\n",
       "      <td>TX</td>\n",
       "      <td>South Texas Project</td>\n",
       "      <td>NUC</td>\n",
       "      <td>0.9143</td>\n",
       "      <td>2,708.60</td>\n",
       "      <td>21694303.0</td>\n",
       "      <td>0</td>\n",
       "      <td>0.0</td>\n",
       "    </tr>\n",
       "    <tr>\n",
       "      <th>8157</th>\n",
       "      <td>8158</td>\n",
       "      <td>SC</td>\n",
       "      <td>Oconee</td>\n",
       "      <td>NUC</td>\n",
       "      <td>0.9065</td>\n",
       "      <td>2,666.70</td>\n",
       "      <td>21177103.0</td>\n",
       "      <td>0</td>\n",
       "      <td>0.0</td>\n",
       "    </tr>\n",
       "  </tbody>\n",
       "</table>\n",
       "</div>"
      ],
      "text/plain": [
       "      SEQPLT16 PSTATABB                PNAME PLPRMFL  CAPFAC  NAMEPCAP  \\\n",
       "390        391       AZ           Palo Verde     NUC  0.8780  4,209.60   \n",
       "164        165       AL         Browns Ferry     NUC  0.8565  3,494.00   \n",
       "7966      7967       PA         Peach Bottom     NUC  0.8968  2,784.60   \n",
       "8764      8765       TX  South Texas Project     NUC  0.9143  2,708.60   \n",
       "8157      8158       SC               Oconee     NUC  0.9065  2,666.70   \n",
       "\n",
       "        PLNGENAN PLCO2EQA  co2  \n",
       "390   32377477.0        0  0.0  \n",
       "164   26214623.0        0  0.0  \n",
       "7966  21875435.0        0  0.0  \n",
       "8764  21694303.0        0  0.0  \n",
       "8157  21177103.0        0  0.0  "
      ]
     },
     "execution_count": 21,
     "metadata": {},
     "output_type": "execute_result"
    }
   ],
   "source": [
    "egrid = egrid.sort_values('PLNGENAN', ascending=False)\n",
    "egrid.head()"
   ]
  },
  {
   "cell_type": "markdown",
   "metadata": {},
   "source": [
    "**(4)** What state has the highest average annual net generation for all its power plants?"
   ]
  },
  {
   "cell_type": "code",
   "execution_count": 24,
   "metadata": {},
   "outputs": [
    {
     "data": {
      "text/html": [
       "<div>\n",
       "<style scoped>\n",
       "    .dataframe tbody tr th:only-of-type {\n",
       "        vertical-align: middle;\n",
       "    }\n",
       "\n",
       "    .dataframe tbody tr th {\n",
       "        vertical-align: top;\n",
       "    }\n",
       "\n",
       "    .dataframe thead th {\n",
       "        text-align: right;\n",
       "    }\n",
       "</style>\n",
       "<table border=\"1\" class=\"dataframe\">\n",
       "  <thead>\n",
       "    <tr style=\"text-align: right;\">\n",
       "      <th></th>\n",
       "      <th>PLNGENAN</th>\n",
       "    </tr>\n",
       "    <tr>\n",
       "      <th>PSTATABB</th>\n",
       "      <th></th>\n",
       "    </tr>\n",
       "  </thead>\n",
       "  <tbody>\n",
       "    <tr>\n",
       "      <th>VA</th>\n",
       "      <td>6.805501e+05</td>\n",
       "    </tr>\n",
       "    <tr>\n",
       "      <th>MI</th>\n",
       "      <td>4.896148e+05</td>\n",
       "    </tr>\n",
       "    <tr>\n",
       "      <th>DC</th>\n",
       "      <td>3.823700e+04</td>\n",
       "    </tr>\n",
       "    <tr>\n",
       "      <th>VT</th>\n",
       "      <td>2.171826e+04</td>\n",
       "    </tr>\n",
       "    <tr>\n",
       "      <th>IL</th>\n",
       "      <td>9.233369e+05</td>\n",
       "    </tr>\n",
       "    <tr>\n",
       "      <th>SC</th>\n",
       "      <td>1.010268e+06</td>\n",
       "    </tr>\n",
       "    <tr>\n",
       "      <th>MS</th>\n",
       "      <td>1.612341e+06</td>\n",
       "    </tr>\n",
       "    <tr>\n",
       "      <th>WY</th>\n",
       "      <td>7.525263e+05</td>\n",
       "    </tr>\n",
       "    <tr>\n",
       "      <th>UT</th>\n",
       "      <td>3.775636e+05</td>\n",
       "    </tr>\n",
       "    <tr>\n",
       "      <th>NM</th>\n",
       "      <td>3.502399e+05</td>\n",
       "    </tr>\n",
       "  </tbody>\n",
       "</table>\n",
       "</div>"
      ],
      "text/plain": [
       "              PLNGENAN\n",
       "PSTATABB              \n",
       "VA        6.805501e+05\n",
       "MI        4.896148e+05\n",
       "DC        3.823700e+04\n",
       "VT        2.171826e+04\n",
       "IL        9.233369e+05\n",
       "SC        1.010268e+06\n",
       "MS        1.612341e+06\n",
       "WY        7.525263e+05\n",
       "UT        3.775636e+05\n",
       "NM        3.502399e+05"
      ]
     },
     "execution_count": 24,
     "metadata": {},
     "output_type": "execute_result"
    }
   ],
   "source": [
    "state_avgs = egrid[['PSTATABB', 'PLNGENAN']].groupby('PSTATABB').mean()\n",
    "state_avgs.sample(10)"
   ]
  },
  {
   "cell_type": "code",
   "execution_count": 26,
   "metadata": {},
   "outputs": [
    {
     "data": {
      "text/html": [
       "<div>\n",
       "<style scoped>\n",
       "    .dataframe tbody tr th:only-of-type {\n",
       "        vertical-align: middle;\n",
       "    }\n",
       "\n",
       "    .dataframe tbody tr th {\n",
       "        vertical-align: top;\n",
       "    }\n",
       "\n",
       "    .dataframe thead th {\n",
       "        text-align: right;\n",
       "    }\n",
       "</style>\n",
       "<table border=\"1\" class=\"dataframe\">\n",
       "  <thead>\n",
       "    <tr style=\"text-align: right;\">\n",
       "      <th></th>\n",
       "      <th>PLNGENAN</th>\n",
       "    </tr>\n",
       "    <tr>\n",
       "      <th>PSTATABB</th>\n",
       "      <th></th>\n",
       "    </tr>\n",
       "  </thead>\n",
       "  <tbody>\n",
       "    <tr>\n",
       "      <th>WV</th>\n",
       "      <td>2.169799e+06</td>\n",
       "    </tr>\n",
       "    <tr>\n",
       "      <th>AL</th>\n",
       "      <td>1.957031e+06</td>\n",
       "    </tr>\n",
       "    <tr>\n",
       "      <th>KY</th>\n",
       "      <td>1.745076e+06</td>\n",
       "    </tr>\n",
       "    <tr>\n",
       "      <th>MS</th>\n",
       "      <td>1.612341e+06</td>\n",
       "    </tr>\n",
       "    <tr>\n",
       "      <th>FL</th>\n",
       "      <td>1.577658e+06</td>\n",
       "    </tr>\n",
       "  </tbody>\n",
       "</table>\n",
       "</div>"
      ],
      "text/plain": [
       "              PLNGENAN\n",
       "PSTATABB              \n",
       "WV        2.169799e+06\n",
       "AL        1.957031e+06\n",
       "KY        1.745076e+06\n",
       "MS        1.612341e+06\n",
       "FL        1.577658e+06"
      ]
     },
     "execution_count": 26,
     "metadata": {},
     "output_type": "execute_result"
    }
   ],
   "source": [
    "state_avgs.sort_values('PLNGENAN', ascending=False).head()"
   ]
  },
  {
   "cell_type": "markdown",
   "metadata": {},
   "source": [
    "### Merging in Location Data\n",
    "\n",
    "For these next questions, download the file egrid2016_locations.xlsx from [https://bit.ly/2YSReuR](https://bit.ly/2YSReuR) (that's two, capital Y, capital S, capital R, lower case e, lower case u, capital R), then merge that dataset with the data you are already using on the variable `SEQPLT16`.\n",
    "\n",
    "Note that the headers for this datadset are on the second row and you'll want to ignore the first row (they're more detailed descriptions of the headers).\n",
    "\n",
    "**(5)** What is the name of the northern-most power plant in the United States (i.e. the plant with this highest value of latitude (`LAT`)?"
   ]
  },
  {
   "cell_type": "code",
   "execution_count": 40,
   "metadata": {},
   "outputs": [],
   "source": [
    "locations = pd.read_excel('/users/nick/downloads/egrid2016_locations.xlsx',\n",
    "                         header = 1)"
   ]
  },
  {
   "cell_type": "code",
   "execution_count": 41,
   "metadata": {},
   "outputs": [
    {
     "data": {
      "text/html": [
       "<div>\n",
       "<style scoped>\n",
       "    .dataframe tbody tr th:only-of-type {\n",
       "        vertical-align: middle;\n",
       "    }\n",
       "\n",
       "    .dataframe tbody tr th {\n",
       "        vertical-align: top;\n",
       "    }\n",
       "\n",
       "    .dataframe thead th {\n",
       "        text-align: right;\n",
       "    }\n",
       "</style>\n",
       "<table border=\"1\" class=\"dataframe\">\n",
       "  <thead>\n",
       "    <tr style=\"text-align: right;\">\n",
       "      <th></th>\n",
       "      <th>SEQPLT16</th>\n",
       "      <th>PSTATABB</th>\n",
       "      <th>PNAME</th>\n",
       "      <th>LAT</th>\n",
       "      <th>LON</th>\n",
       "    </tr>\n",
       "  </thead>\n",
       "  <tbody>\n",
       "    <tr>\n",
       "      <th>0</th>\n",
       "      <td>1</td>\n",
       "      <td>AK</td>\n",
       "      <td>7-Mile Ridge Wind Project</td>\n",
       "      <td>63.210689</td>\n",
       "      <td>-143.247156</td>\n",
       "    </tr>\n",
       "    <tr>\n",
       "      <th>1</th>\n",
       "      <td>2</td>\n",
       "      <td>AK</td>\n",
       "      <td>Agrium Kenai Nitrogen Operations</td>\n",
       "      <td>60.673200</td>\n",
       "      <td>-151.378400</td>\n",
       "    </tr>\n",
       "    <tr>\n",
       "      <th>2</th>\n",
       "      <td>3</td>\n",
       "      <td>AK</td>\n",
       "      <td>Alakanuk</td>\n",
       "      <td>62.683300</td>\n",
       "      <td>-164.654400</td>\n",
       "    </tr>\n",
       "    <tr>\n",
       "      <th>3</th>\n",
       "      <td>4</td>\n",
       "      <td>AK</td>\n",
       "      <td>Allison Creek Hydro</td>\n",
       "      <td>61.084444</td>\n",
       "      <td>-146.353333</td>\n",
       "    </tr>\n",
       "    <tr>\n",
       "      <th>4</th>\n",
       "      <td>5</td>\n",
       "      <td>AK</td>\n",
       "      <td>Ambler</td>\n",
       "      <td>67.087980</td>\n",
       "      <td>-157.856719</td>\n",
       "    </tr>\n",
       "  </tbody>\n",
       "</table>\n",
       "</div>"
      ],
      "text/plain": [
       "   SEQPLT16 PSTATABB                             PNAME        LAT         LON\n",
       "0         1       AK         7-Mile Ridge Wind Project  63.210689 -143.247156\n",
       "1         2       AK  Agrium Kenai Nitrogen Operations  60.673200 -151.378400\n",
       "2         3       AK                          Alakanuk  62.683300 -164.654400\n",
       "3         4       AK               Allison Creek Hydro  61.084444 -146.353333\n",
       "4         5       AK                            Ambler  67.087980 -157.856719"
      ]
     },
     "execution_count": 41,
     "metadata": {},
     "output_type": "execute_result"
    }
   ],
   "source": [
    "locations.head()"
   ]
  },
  {
   "cell_type": "code",
   "execution_count": 42,
   "metadata": {},
   "outputs": [
    {
     "data": {
      "text/html": [
       "<div>\n",
       "<style scoped>\n",
       "    .dataframe tbody tr th:only-of-type {\n",
       "        vertical-align: middle;\n",
       "    }\n",
       "\n",
       "    .dataframe tbody tr th {\n",
       "        vertical-align: top;\n",
       "    }\n",
       "\n",
       "    .dataframe thead th {\n",
       "        text-align: right;\n",
       "    }\n",
       "</style>\n",
       "<table border=\"1\" class=\"dataframe\">\n",
       "  <thead>\n",
       "    <tr style=\"text-align: right;\">\n",
       "      <th></th>\n",
       "      <th>SEQPLT16</th>\n",
       "      <th>PSTATABB_x</th>\n",
       "      <th>PNAME_x</th>\n",
       "      <th>PLPRMFL</th>\n",
       "      <th>CAPFAC</th>\n",
       "      <th>NAMEPCAP</th>\n",
       "      <th>PLNGENAN</th>\n",
       "      <th>PLCO2EQA</th>\n",
       "      <th>co2</th>\n",
       "      <th>PSTATABB_y</th>\n",
       "      <th>PNAME_y</th>\n",
       "      <th>LAT</th>\n",
       "      <th>LON</th>\n",
       "    </tr>\n",
       "  </thead>\n",
       "  <tbody>\n",
       "    <tr>\n",
       "      <th>0</th>\n",
       "      <td>391</td>\n",
       "      <td>AZ</td>\n",
       "      <td>Palo Verde</td>\n",
       "      <td>NUC</td>\n",
       "      <td>0.8780</td>\n",
       "      <td>4,209.60</td>\n",
       "      <td>32377477.0</td>\n",
       "      <td>0</td>\n",
       "      <td>0.0</td>\n",
       "      <td>AZ</td>\n",
       "      <td>Palo Verde</td>\n",
       "      <td>33.388100</td>\n",
       "      <td>-112.861700</td>\n",
       "    </tr>\n",
       "    <tr>\n",
       "      <th>1</th>\n",
       "      <td>165</td>\n",
       "      <td>AL</td>\n",
       "      <td>Browns Ferry</td>\n",
       "      <td>NUC</td>\n",
       "      <td>0.8565</td>\n",
       "      <td>3,494.00</td>\n",
       "      <td>26214623.0</td>\n",
       "      <td>0</td>\n",
       "      <td>0.0</td>\n",
       "      <td>AL</td>\n",
       "      <td>Browns Ferry</td>\n",
       "      <td>34.704200</td>\n",
       "      <td>-87.118900</td>\n",
       "    </tr>\n",
       "    <tr>\n",
       "      <th>2</th>\n",
       "      <td>7967</td>\n",
       "      <td>PA</td>\n",
       "      <td>Peach Bottom</td>\n",
       "      <td>NUC</td>\n",
       "      <td>0.8968</td>\n",
       "      <td>2,784.60</td>\n",
       "      <td>21875435.0</td>\n",
       "      <td>0</td>\n",
       "      <td>0.0</td>\n",
       "      <td>PA</td>\n",
       "      <td>Peach Bottom</td>\n",
       "      <td>39.758936</td>\n",
       "      <td>-76.268742</td>\n",
       "    </tr>\n",
       "    <tr>\n",
       "      <th>3</th>\n",
       "      <td>8765</td>\n",
       "      <td>TX</td>\n",
       "      <td>South Texas Project</td>\n",
       "      <td>NUC</td>\n",
       "      <td>0.9143</td>\n",
       "      <td>2,708.60</td>\n",
       "      <td>21694303.0</td>\n",
       "      <td>0</td>\n",
       "      <td>0.0</td>\n",
       "      <td>TX</td>\n",
       "      <td>South Texas Project</td>\n",
       "      <td>28.795000</td>\n",
       "      <td>-96.048100</td>\n",
       "    </tr>\n",
       "    <tr>\n",
       "      <th>4</th>\n",
       "      <td>8158</td>\n",
       "      <td>SC</td>\n",
       "      <td>Oconee</td>\n",
       "      <td>NUC</td>\n",
       "      <td>0.9065</td>\n",
       "      <td>2,666.70</td>\n",
       "      <td>21177103.0</td>\n",
       "      <td>0</td>\n",
       "      <td>0.0</td>\n",
       "      <td>SC</td>\n",
       "      <td>Oconee</td>\n",
       "      <td>34.793900</td>\n",
       "      <td>-82.898600</td>\n",
       "    </tr>\n",
       "  </tbody>\n",
       "</table>\n",
       "</div>"
      ],
      "text/plain": [
       "   SEQPLT16 PSTATABB_x              PNAME_x PLPRMFL  CAPFAC  NAMEPCAP  \\\n",
       "0       391         AZ           Palo Verde     NUC  0.8780  4,209.60   \n",
       "1       165         AL         Browns Ferry     NUC  0.8565  3,494.00   \n",
       "2      7967         PA         Peach Bottom     NUC  0.8968  2,784.60   \n",
       "3      8765         TX  South Texas Project     NUC  0.9143  2,708.60   \n",
       "4      8158         SC               Oconee     NUC  0.9065  2,666.70   \n",
       "\n",
       "     PLNGENAN PLCO2EQA  co2 PSTATABB_y              PNAME_y        LAT  \\\n",
       "0  32377477.0        0  0.0         AZ           Palo Verde  33.388100   \n",
       "1  26214623.0        0  0.0         AL         Browns Ferry  34.704200   \n",
       "2  21875435.0        0  0.0         PA         Peach Bottom  39.758936   \n",
       "3  21694303.0        0  0.0         TX  South Texas Project  28.795000   \n",
       "4  21177103.0        0  0.0         SC               Oconee  34.793900   \n",
       "\n",
       "          LON  \n",
       "0 -112.861700  \n",
       "1  -87.118900  \n",
       "2  -76.268742  \n",
       "3  -96.048100  \n",
       "4  -82.898600  "
      ]
     },
     "execution_count": 42,
     "metadata": {},
     "output_type": "execute_result"
    }
   ],
   "source": [
    "merged = pd.merge(egrid, locations, on='SEQPLT16', validate='1:1')\n",
    "merged.head()"
   ]
  },
  {
   "cell_type": "code",
   "execution_count": 43,
   "metadata": {},
   "outputs": [
    {
     "data": {
      "text/plain": [
       "Index(['SEQPLT16', 'PSTATABB_x', 'PNAME_x', 'PLPRMFL', 'CAPFAC', 'NAMEPCAP',\n",
       "       'PLNGENAN', 'PLCO2EQA', 'co2', 'PSTATABB_y', 'PNAME_y', 'LAT', 'LON'],\n",
       "      dtype='object')"
      ]
     },
     "execution_count": 43,
     "metadata": {},
     "output_type": "execute_result"
    }
   ],
   "source": [
    "merged.columns"
   ]
  },
  {
   "cell_type": "code",
   "execution_count": 48,
   "metadata": {},
   "outputs": [
    {
     "data": {
      "text/html": [
       "<div>\n",
       "<style scoped>\n",
       "    .dataframe tbody tr th:only-of-type {\n",
       "        vertical-align: middle;\n",
       "    }\n",
       "\n",
       "    .dataframe tbody tr th {\n",
       "        vertical-align: top;\n",
       "    }\n",
       "\n",
       "    .dataframe thead th {\n",
       "        text-align: right;\n",
       "    }\n",
       "</style>\n",
       "<table border=\"1\" class=\"dataframe\">\n",
       "  <thead>\n",
       "    <tr style=\"text-align: right;\">\n",
       "      <th></th>\n",
       "      <th>SEQPLT16</th>\n",
       "      <th>PSTATABB_x</th>\n",
       "      <th>PNAME_x</th>\n",
       "      <th>PLPRMFL</th>\n",
       "      <th>CAPFAC</th>\n",
       "      <th>NAMEPCAP</th>\n",
       "      <th>PLNGENAN</th>\n",
       "      <th>PLCO2EQA</th>\n",
       "      <th>co2</th>\n",
       "      <th>PSTATABB_y</th>\n",
       "      <th>PNAME_y</th>\n",
       "      <th>LAT</th>\n",
       "      <th>LON</th>\n",
       "    </tr>\n",
       "  </thead>\n",
       "  <tbody>\n",
       "    <tr>\n",
       "      <th>2974</th>\n",
       "      <td>12</td>\n",
       "      <td>AK</td>\n",
       "      <td>Barrow</td>\n",
       "      <td>NG</td>\n",
       "      <td>0.2821</td>\n",
       "      <td>20.3</td>\n",
       "      <td>50162.0</td>\n",
       "      <td>44,205</td>\n",
       "      <td>44205.0</td>\n",
       "      <td>AK</td>\n",
       "      <td>Barrow</td>\n",
       "      <td>71.292000</td>\n",
       "      <td>-156.778600</td>\n",
       "    </tr>\n",
       "    <tr>\n",
       "      <th>5114</th>\n",
       "      <td>94</td>\n",
       "      <td>AK</td>\n",
       "      <td>NSB Wainwright Utility</td>\n",
       "      <td>DFO</td>\n",
       "      <td>0.2351</td>\n",
       "      <td>3.3</td>\n",
       "      <td>6796.0</td>\n",
       "      <td>6,221</td>\n",
       "      <td>6221.0</td>\n",
       "      <td>AK</td>\n",
       "      <td>NSB Wainwright Utility</td>\n",
       "      <td>70.642877</td>\n",
       "      <td>-160.020461</td>\n",
       "    </tr>\n",
       "    <tr>\n",
       "      <th>6056</th>\n",
       "      <td>89</td>\n",
       "      <td>AK</td>\n",
       "      <td>NSB Atqasuk Utility</td>\n",
       "      <td>DFO</td>\n",
       "      <td>0.0960</td>\n",
       "      <td>3.4</td>\n",
       "      <td>2859.0</td>\n",
       "      <td>2,930</td>\n",
       "      <td>2930.0</td>\n",
       "      <td>AK</td>\n",
       "      <td>NSB Atqasuk Utility</td>\n",
       "      <td>70.482600</td>\n",
       "      <td>-157.425200</td>\n",
       "    </tr>\n",
       "    <tr>\n",
       "      <th>2634</th>\n",
       "      <td>132</td>\n",
       "      <td>AK</td>\n",
       "      <td>TNSG North Plant</td>\n",
       "      <td>NG</td>\n",
       "      <td>0.3229</td>\n",
       "      <td>25.7</td>\n",
       "      <td>72702.0</td>\n",
       "      <td>55,911</td>\n",
       "      <td>55911.0</td>\n",
       "      <td>AK</td>\n",
       "      <td>TNSG North Plant</td>\n",
       "      <td>70.235278</td>\n",
       "      <td>-148.383611</td>\n",
       "    </tr>\n",
       "    <tr>\n",
       "      <th>5181</th>\n",
       "      <td>91</td>\n",
       "      <td>AK</td>\n",
       "      <td>NSB Nuiqsut Utility</td>\n",
       "      <td>DFO</td>\n",
       "      <td>0.1510</td>\n",
       "      <td>4.8</td>\n",
       "      <td>6349.0</td>\n",
       "      <td>5,825</td>\n",
       "      <td>5825.0</td>\n",
       "      <td>AK</td>\n",
       "      <td>NSB Nuiqsut Utility</td>\n",
       "      <td>70.220565</td>\n",
       "      <td>-150.993492</td>\n",
       "    </tr>\n",
       "  </tbody>\n",
       "</table>\n",
       "</div>"
      ],
      "text/plain": [
       "      SEQPLT16 PSTATABB_x                 PNAME_x PLPRMFL  CAPFAC NAMEPCAP  \\\n",
       "2974        12         AK                  Barrow      NG  0.2821     20.3   \n",
       "5114        94         AK  NSB Wainwright Utility     DFO  0.2351      3.3   \n",
       "6056        89         AK     NSB Atqasuk Utility     DFO  0.0960      3.4   \n",
       "2634       132         AK        TNSG North Plant      NG  0.3229     25.7   \n",
       "5181        91         AK     NSB Nuiqsut Utility     DFO  0.1510      4.8   \n",
       "\n",
       "      PLNGENAN PLCO2EQA      co2 PSTATABB_y                 PNAME_y  \\\n",
       "2974   50162.0   44,205  44205.0         AK                  Barrow   \n",
       "5114    6796.0    6,221   6221.0         AK  NSB Wainwright Utility   \n",
       "6056    2859.0    2,930   2930.0         AK     NSB Atqasuk Utility   \n",
       "2634   72702.0   55,911  55911.0         AK        TNSG North Plant   \n",
       "5181    6349.0    5,825   5825.0         AK     NSB Nuiqsut Utility   \n",
       "\n",
       "            LAT         LON  \n",
       "2974  71.292000 -156.778600  \n",
       "5114  70.642877 -160.020461  \n",
       "6056  70.482600 -157.425200  \n",
       "2634  70.235278 -148.383611  \n",
       "5181  70.220565 -150.993492  "
      ]
     },
     "execution_count": 48,
     "metadata": {},
     "output_type": "execute_result"
    }
   ],
   "source": [
    "merged = merged.sort_values('LAT', ascending=False)\n",
    "merged.head()"
   ]
  },
  {
   "cell_type": "code",
   "execution_count": 49,
   "metadata": {},
   "outputs": [
    {
     "data": {
      "text/plain": [
       "'Barrow'"
      ]
     },
     "execution_count": 49,
     "metadata": {},
     "output_type": "execute_result"
    }
   ],
   "source": [
    "merged.iloc[0]['PNAME_x']"
   ]
  },
  {
   "cell_type": "markdown",
   "metadata": {},
   "source": [
    "**(6)** What is the state where the northern-most power plant in the United States is located?"
   ]
  },
  {
   "cell_type": "code",
   "execution_count": 46,
   "metadata": {},
   "outputs": [
    {
     "data": {
      "text/plain": [
       "'AK'"
      ]
     },
     "execution_count": 46,
     "metadata": {},
     "output_type": "execute_result"
    }
   ],
   "source": [
    "merged.iloc[0]['PSTATABB_x']"
   ]
  }
 ],
 "metadata": {
  "kernelspec": {
   "display_name": "Python 3",
   "language": "python",
   "name": "python3"
  },
  "language_info": {
   "codemirror_mode": {
    "name": "ipython",
    "version": 3
   },
   "file_extension": ".py",
   "mimetype": "text/x-python",
   "name": "python",
   "nbconvert_exporter": "python",
   "pygments_lexer": "ipython3",
   "version": "3.7.3"
  }
 },
 "nbformat": 4,
 "nbformat_minor": 4
}
