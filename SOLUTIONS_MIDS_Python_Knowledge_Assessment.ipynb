{
 "cells": [
  {
   "cell_type": "markdown",
   "metadata": {},
   "source": [
    "# Python Knowledge Assessment"
   ]
  },
  {
   "cell_type": "markdown",
   "metadata": {},
   "source": [
    "## CLOSED BOOK PORTION\n",
    "\n",
    "**(1)**"
   ]
  },
  {
   "cell_type": "code",
   "execution_count": 1,
   "metadata": {},
   "outputs": [
    {
     "name": "stdout",
     "output_type": "stream",
     "text": [
      "10\n"
     ]
    }
   ],
   "source": [
    "x = 0\n",
    "for i in range(5):\n",
    "    x = x + i\n",
    "print(x)"
   ]
  },
  {
   "cell_type": "markdown",
   "metadata": {},
   "source": [
    "**(2)**"
   ]
  },
  {
   "cell_type": "code",
   "execution_count": 2,
   "metadata": {},
   "outputs": [
    {
     "name": "stdout",
     "output_type": "stream",
     "text": [
      "[1, 2, 3, 4]\n"
     ]
    }
   ],
   "source": [
    "x = [1, 2, 3]\n",
    "y = x\n",
    "\n",
    "x.append(4) \n",
    "# Note: `.append(4)` will add the number 4 as the last entry \n",
    "# in the list associated with x.\n",
    "\n",
    "print(y)"
   ]
  },
  {
   "cell_type": "markdown",
   "metadata": {},
   "source": [
    "**(3)**"
   ]
  },
  {
   "cell_type": "code",
   "execution_count": 4,
   "metadata": {},
   "outputs": [
    {
     "name": "stdout",
     "output_type": "stream",
     "text": [
      "this is a string\n"
     ]
    }
   ],
   "source": [
    "x = 'this is a string'\n",
    "y = x\n",
    "x = x.upper()\n",
    "print(y)"
   ]
  },
  {
   "cell_type": "markdown",
   "metadata": {},
   "source": [
    "## OPEN BOOK PORTION"
   ]
  },
  {
   "cell_type": "markdown",
   "metadata": {},
   "source": [
    "## Part 2: Basic Python"
   ]
  },
  {
   "cell_type": "markdown",
   "metadata": {},
   "source": [
    "**(1)** What is the type of the variable x defined as `x = \"42\"`?"
   ]
  },
  {
   "cell_type": "code",
   "execution_count": 1,
   "metadata": {},
   "outputs": [
    {
     "data": {
      "text/plain": [
       "str"
      ]
     },
     "execution_count": 1,
     "metadata": {},
     "output_type": "execute_result"
    }
   ],
   "source": [
    "type(\"42\")"
   ]
  },
  {
   "cell_type": "markdown",
   "metadata": {},
   "source": [
    "**(2)** Consider the list `my_list = [42, 47, 1.168, 3.14, 8, -5]`. What code would return the *second* and *third* entries of `my_list`?"
   ]
  },
  {
   "cell_type": "code",
   "execution_count": 9,
   "metadata": {},
   "outputs": [
    {
     "data": {
      "text/plain": [
       "[47, 1.168]"
      ]
     },
     "execution_count": 9,
     "metadata": {},
     "output_type": "execute_result"
    }
   ],
   "source": [
    "my_list = [42, 47, 1.168, 3.14, 8, -5]\n",
    "my_list[1:3]"
   ]
  },
  {
   "cell_type": "markdown",
   "metadata": {},
   "source": [
    "**(3)** What code would return the last entry of `my_list`?"
   ]
  },
  {
   "cell_type": "code",
   "execution_count": 11,
   "metadata": {},
   "outputs": [
    {
     "data": {
      "text/plain": [
       "-5"
      ]
     },
     "execution_count": 11,
     "metadata": {},
     "output_type": "execute_result"
    }
   ],
   "source": [
    "my_list[5]"
   ]
  },
  {
   "cell_type": "code",
   "execution_count": 12,
   "metadata": {},
   "outputs": [
    {
     "data": {
      "text/plain": [
       "-5"
      ]
     },
     "execution_count": 12,
     "metadata": {},
     "output_type": "execute_result"
    }
   ],
   "source": [
    "# or \n",
    "\n",
    "my_list[-1]"
   ]
  },
  {
   "cell_type": "markdown",
   "metadata": {},
   "source": [
    "**(4)** What is the value of $\\frac{5^{3}}{12 * 5}$ (rounded to two decimal places)"
   ]
  },
  {
   "cell_type": "code",
   "execution_count": 13,
   "metadata": {},
   "outputs": [
    {
     "data": {
      "text/plain": [
       "2.08"
      ]
     },
     "execution_count": 13,
     "metadata": {},
     "output_type": "execute_result"
    }
   ],
   "source": [
    "round((5**3) / (12*5), ndigits=2)"
   ]
  },
  {
   "cell_type": "markdown",
   "metadata": {},
   "source": [
    "**(5)** Add up all the odd numbers from 1 to 153 (e.g. 1, 2, 3, ... , 150, 151, 153)."
   ]
  },
  {
   "cell_type": "code",
   "execution_count": 14,
   "metadata": {},
   "outputs": [
    {
     "data": {
      "text/plain": [
       "5929"
      ]
     },
     "execution_count": 14,
     "metadata": {},
     "output_type": "execute_result"
    }
   ],
   "source": [
    "# One way: \n",
    "sum([i for i in range(154) if i % 2 == 1])"
   ]
  },
  {
   "cell_type": "code",
   "execution_count": 15,
   "metadata": {},
   "outputs": [
    {
     "data": {
      "text/plain": [
       "5929"
      ]
     },
     "execution_count": 15,
     "metadata": {},
     "output_type": "execute_result"
    }
   ],
   "source": [
    "# Or: \n",
    "total = 0\n",
    "for i in range(154):\n",
    "    if (i % 2 == 1):\n",
    "        total += i\n",
    "total"
   ]
  },
  {
   "cell_type": "code",
   "execution_count": 16,
   "metadata": {},
   "outputs": [
    {
     "data": {
      "text/plain": [
       "5929"
      ]
     },
     "execution_count": 16,
     "metadata": {},
     "output_type": "execute_result"
    }
   ],
   "source": [
    "# Or: \n",
    "sum(range(1, 154, 2))"
   ]
  },
  {
   "cell_type": "markdown",
   "metadata": {},
   "source": [
    "## Part 2: Basic Data Analysis\n",
    "Below, you're given a list of 500 random integers. Use that list to answer the following questions."
   ]
  },
  {
   "cell_type": "code",
   "execution_count": 17,
   "metadata": {},
   "outputs": [],
   "source": [
    "import numpy as np\n",
    "np.random.seed(14) # This guarantees the code will generate the same set of random numbers whenever executed\n",
    "random_integers = np.random.randint(1,high=500000, size=(500))"
   ]
  },
  {
   "cell_type": "markdown",
   "metadata": {},
   "source": [
    "**(1)** What is the difference between the largest and the smallest number in this list?"
   ]
  },
  {
   "cell_type": "code",
   "execution_count": 18,
   "metadata": {},
   "outputs": [
    {
     "data": {
      "text/plain": [
       "494034"
      ]
     },
     "execution_count": 18,
     "metadata": {},
     "output_type": "execute_result"
    }
   ],
   "source": [
    "max(random_integers) - min(random_integers)"
   ]
  },
  {
   "cell_type": "markdown",
   "metadata": {},
   "source": [
    "**(2)** What is the mean of this list?"
   ]
  },
  {
   "cell_type": "code",
   "execution_count": 20,
   "metadata": {},
   "outputs": [
    {
     "data": {
      "text/plain": [
       "253946.708"
      ]
     },
     "execution_count": 20,
     "metadata": {},
     "output_type": "execute_result"
    }
   ],
   "source": [
    "np.mean(random_integers)"
   ]
  },
  {
   "cell_type": "code",
   "execution_count": 21,
   "metadata": {},
   "outputs": [
    {
     "data": {
      "text/plain": [
       "253946.708"
      ]
     },
     "execution_count": 21,
     "metadata": {},
     "output_type": "execute_result"
    }
   ],
   "source": [
    "# or\n",
    "sum(random_integers) / len(random_integers)"
   ]
  },
  {
   "cell_type": "markdown",
   "metadata": {},
   "source": [
    "**(3)** How many of the numbers in the list are multiples of 251? For example, since 251\\*2 = 502, then 502 is a multiple of 251."
   ]
  },
  {
   "cell_type": "code",
   "execution_count": 24,
   "metadata": {},
   "outputs": [
    {
     "data": {
      "text/plain": [
       "3"
      ]
     },
     "execution_count": 24,
     "metadata": {},
     "output_type": "execute_result"
    }
   ],
   "source": [
    "counter = 0\n",
    "for i in random_integers:\n",
    "    if i % 251 == 0:\n",
    "        counter = counter + 1\n",
    "counter"
   ]
  },
  {
   "cell_type": "code",
   "execution_count": 25,
   "metadata": {},
   "outputs": [
    {
     "data": {
      "text/plain": [
       "3"
      ]
     },
     "execution_count": 25,
     "metadata": {},
     "output_type": "execute_result"
    }
   ],
   "source": [
    "# or\n",
    "multiples = [i for i in random_integers if i % 251 == 0]\n",
    "len(multiples)"
   ]
  },
  {
   "cell_type": "markdown",
   "metadata": {},
   "source": [
    "**(4)** What is the mean of the odd values in this list?"
   ]
  },
  {
   "cell_type": "code",
   "execution_count": 26,
   "metadata": {},
   "outputs": [
    {
     "data": {
      "text/plain": [
       "252713.47154471546"
      ]
     },
     "execution_count": 26,
     "metadata": {},
     "output_type": "execute_result"
    }
   ],
   "source": [
    "odd_values = []\n",
    "for i in random_integers:\n",
    "    if i % 2 != 0:\n",
    "        odd_values.append(i)\n",
    "np.mean(odd_values)"
   ]
  },
  {
   "cell_type": "code",
   "execution_count": 27,
   "metadata": {},
   "outputs": [
    {
     "data": {
      "text/plain": [
       "252713.47154471546"
      ]
     },
     "execution_count": 27,
     "metadata": {},
     "output_type": "execute_result"
    }
   ],
   "source": [
    "# Or\n",
    "np.mean([i for i in random_integers if i % 2 !=0])"
   ]
  },
  {
   "cell_type": "markdown",
   "metadata": {},
   "source": [
    "## Part 3: Implementing Equations\n",
    "**(1)** Implement the following equation as Python code, and determine what its value is for $x=1$. What is the value of $y$ to 5 decimal places? \n",
    "\n",
    "$$y = 4\\sum_{n=0}^{10^6} \\frac{(-1)^n}{2n+1}x^{2n+1}$$\n",
    "\n",
    "*Hint: if all goes well, you should see a familiar number*"
   ]
  },
  {
   "cell_type": "code",
   "execution_count": 30,
   "metadata": {},
   "outputs": [
    {
     "data": {
      "text/plain": [
       "3.1415936535887745"
      ]
     },
     "execution_count": 30,
     "metadata": {},
     "output_type": "execute_result"
    }
   ],
   "source": [
    "def weird_sum(x):\n",
    "    sum = 0 \n",
    "    for n in range(10**6 + 1):\n",
    "        sum = sum + ((-1)**n) / (2*n + 1) * (x ** (2*n + 1))\n",
    "    sum = sum*4\n",
    "    return sum\n",
    "\n",
    "weird_sum(1)"
   ]
  },
  {
   "cell_type": "code",
   "execution_count": 31,
   "metadata": {},
   "outputs": [
    {
     "data": {
      "text/plain": [
       "3.1415916535897743"
      ]
     },
     "execution_count": 31,
     "metadata": {},
     "output_type": "execute_result"
    }
   ],
   "source": [
    "# But I'm ok if last entry gets dropped:\n",
    "\n",
    "def weird_sum(x):\n",
    "    sum = 0 \n",
    "    for n in range(10**6):\n",
    "        sum = sum + ((-1)**n) / (2*n + 1) * (x ** (2*n + 1))\n",
    "    sum = sum*4\n",
    "    return sum\n",
    "\n",
    "weird_sum(1)"
   ]
  },
  {
   "cell_type": "markdown",
   "metadata": {},
   "source": [
    "## Part 4: Loading data and answering questions for a real dataset\n",
    "\n",
    "For this part, we'll be using data on US power plants that you can download from this url: [https://bit.ly/2Mlt8lR](https://bit.ly/2Mlt8lR) (that code is the number 2, capital M, lower case L, lower case t, the number 8, lower case L, capital R). The file is a comma-separated value spreadsheet (CSV) called `egrid2016.csv`. \n",
    "\n",
    "This is the dataset we'll be exploring through the following exercises. This dataset is the Environmental Protection Agency's (EPA) [Emissions & Generation Resource Integrated Database (eGRID)](https://www.epa.gov/energy/emissions-generation-resource-integrated-database-egrid) containing information about all power plants in the United States, the amount of genereration they produce, what fuel they use, the location of the plant, and many more quantities. We'll be using a subset of those data.\n",
    "\n",
    "The fields we'll be using include:\t\t\t\t\t\n",
    "    \n",
    "|field    |description|\n",
    "|:-----   |:-----|\n",
    "|SEQPLT16 |eGRID2016 Plant file sequence number (the index)| \n",
    "|PSTATABB |Plant state abbreviation|\n",
    "|PNAME    |Plant name |\n",
    "|PLPRMFL  |Plant primary fuel |\n",
    "|CAPFAC   |Plant capacity factor |\n",
    "|NAMEPCAP |Plant nameplate capacity (Megawatts MW)|\n",
    "|PLNGENAN |Plant annual net generation (Megawatt-hours MWh)|\n",
    "|PLCO2EQA |Plant annual CO2 equivalent emissions (tons)|\n",
    "\n",
    "\n",
    "### Analyzing the CSV\n",
    "\n",
    "For this CSV dataset, your goal is answer the following questions about electricity generation in the United States:\n",
    "\n",
    "**(1)** Which plant has generated the most energy (measured in MWh)?"
   ]
  },
  {
   "cell_type": "code",
   "execution_count": 32,
   "metadata": {},
   "outputs": [
    {
     "data": {
      "text/html": [
       "<div>\n",
       "<style scoped>\n",
       "    .dataframe tbody tr th:only-of-type {\n",
       "        vertical-align: middle;\n",
       "    }\n",
       "\n",
       "    .dataframe tbody tr th {\n",
       "        vertical-align: top;\n",
       "    }\n",
       "\n",
       "    .dataframe thead th {\n",
       "        text-align: right;\n",
       "    }\n",
       "</style>\n",
       "<table border=\"1\" class=\"dataframe\">\n",
       "  <thead>\n",
       "    <tr style=\"text-align: right;\">\n",
       "      <th></th>\n",
       "      <th>SEQPLT16</th>\n",
       "      <th>PSTATABB</th>\n",
       "      <th>PNAME</th>\n",
       "      <th>PLPRMFL</th>\n",
       "      <th>CAPFAC</th>\n",
       "      <th>NAMEPCAP</th>\n",
       "      <th>PLNGENAN</th>\n",
       "      <th>PLCO2EQA</th>\n",
       "    </tr>\n",
       "  </thead>\n",
       "  <tbody>\n",
       "    <tr>\n",
       "      <th>0</th>\n",
       "      <td>1</td>\n",
       "      <td>AK</td>\n",
       "      <td>7-Mile Ridge Wind Project</td>\n",
       "      <td>WND</td>\n",
       "      <td>NaN</td>\n",
       "      <td>1.8</td>\n",
       "      <td>NaN</td>\n",
       "      <td>NaN</td>\n",
       "    </tr>\n",
       "    <tr>\n",
       "      <th>1</th>\n",
       "      <td>2</td>\n",
       "      <td>AK</td>\n",
       "      <td>Agrium Kenai Nitrogen Operations</td>\n",
       "      <td>NG</td>\n",
       "      <td>NaN</td>\n",
       "      <td>21.6</td>\n",
       "      <td>NaN</td>\n",
       "      <td>NaN</td>\n",
       "    </tr>\n",
       "    <tr>\n",
       "      <th>2</th>\n",
       "      <td>3</td>\n",
       "      <td>AK</td>\n",
       "      <td>Alakanuk</td>\n",
       "      <td>DFO</td>\n",
       "      <td>0.0533</td>\n",
       "      <td>2.6</td>\n",
       "      <td>1213.0</td>\n",
       "      <td>1,050</td>\n",
       "    </tr>\n",
       "    <tr>\n",
       "      <th>3</th>\n",
       "      <td>4</td>\n",
       "      <td>AK</td>\n",
       "      <td>Allison Creek Hydro</td>\n",
       "      <td>WAT</td>\n",
       "      <td>0.0155</td>\n",
       "      <td>6.5</td>\n",
       "      <td>881.0</td>\n",
       "      <td>0</td>\n",
       "    </tr>\n",
       "    <tr>\n",
       "      <th>4</th>\n",
       "      <td>5</td>\n",
       "      <td>AK</td>\n",
       "      <td>Ambler</td>\n",
       "      <td>DFO</td>\n",
       "      <td>0.1366</td>\n",
       "      <td>1.1</td>\n",
       "      <td>1316.0</td>\n",
       "      <td>1,088</td>\n",
       "    </tr>\n",
       "  </tbody>\n",
       "</table>\n",
       "</div>"
      ],
      "text/plain": [
       "   SEQPLT16 PSTATABB                             PNAME PLPRMFL  CAPFAC  \\\n",
       "0         1       AK         7-Mile Ridge Wind Project     WND     NaN   \n",
       "1         2       AK  Agrium Kenai Nitrogen Operations      NG     NaN   \n",
       "2         3       AK                          Alakanuk     DFO  0.0533   \n",
       "3         4       AK               Allison Creek Hydro     WAT  0.0155   \n",
       "4         5       AK                            Ambler     DFO  0.1366   \n",
       "\n",
       "  NAMEPCAP  PLNGENAN PLCO2EQA  \n",
       "0      1.8       NaN      NaN  \n",
       "1     21.6       NaN      NaN  \n",
       "2      2.6    1213.0    1,050  \n",
       "3      6.5     881.0        0  \n",
       "4      1.1    1316.0    1,088  "
      ]
     },
     "execution_count": 32,
     "metadata": {},
     "output_type": "execute_result"
    }
   ],
   "source": [
    "import pandas as pd\n",
    "egrid = pd.read_csv('/users/nick/downloads/egrid2016.csv')\n",
    "egrid.head()"
   ]
  },
  {
   "cell_type": "code",
   "execution_count": 34,
   "metadata": {},
   "outputs": [
    {
     "data": {
      "text/plain": [
       "390    Palo Verde\n",
       "Name: PNAME, dtype: object"
      ]
     },
     "execution_count": 34,
     "metadata": {},
     "output_type": "execute_result"
    }
   ],
   "source": [
    "egrid.loc[egrid['PLNGENAN'] == egrid['PLNGENAN'].max()]['PNAME']"
   ]
  },
  {
   "cell_type": "markdown",
   "metadata": {},
   "source": [
    "**(2)** What plant has the highest annual CO2 emissions? \n",
    "\n",
    "*Note: there's a trick to this, so if you get stuck and don't immediately understand the problem, just move on*"
   ]
  },
  {
   "cell_type": "code",
   "execution_count": 36,
   "metadata": {},
   "outputs": [
    {
     "data": {
      "text/plain": [
       "191    James H Miller Jr\n",
       "Name: PNAME, dtype: object"
      ]
     },
     "execution_count": 36,
     "metadata": {},
     "output_type": "execute_result"
    }
   ],
   "source": [
    "egrid['co2'] = egrid['PLCO2EQA'].str.replace(',', '')\n",
    "egrid['co2'] = egrid['co2'].str.replace('NaN', '')\n",
    "egrid['co2'] = egrid['co2'].astype('float')\n",
    "egrid.loc[egrid['co2'] == egrid['co2'].max()]['PNAME']"
   ]
  },
  {
   "cell_type": "markdown",
   "metadata": {},
   "source": [
    "**(3)** What state has the second largest power plant (by average annual net generation) in the country?"
   ]
  },
  {
   "cell_type": "code",
   "execution_count": 38,
   "metadata": {},
   "outputs": [
    {
     "data": {
      "text/html": [
       "<div>\n",
       "<style scoped>\n",
       "    .dataframe tbody tr th:only-of-type {\n",
       "        vertical-align: middle;\n",
       "    }\n",
       "\n",
       "    .dataframe tbody tr th {\n",
       "        vertical-align: top;\n",
       "    }\n",
       "\n",
       "    .dataframe thead th {\n",
       "        text-align: right;\n",
       "    }\n",
       "</style>\n",
       "<table border=\"1\" class=\"dataframe\">\n",
       "  <thead>\n",
       "    <tr style=\"text-align: right;\">\n",
       "      <th></th>\n",
       "      <th>SEQPLT16</th>\n",
       "      <th>PSTATABB</th>\n",
       "      <th>PNAME</th>\n",
       "      <th>PLPRMFL</th>\n",
       "      <th>CAPFAC</th>\n",
       "      <th>NAMEPCAP</th>\n",
       "      <th>PLNGENAN</th>\n",
       "      <th>PLCO2EQA</th>\n",
       "      <th>co2</th>\n",
       "    </tr>\n",
       "  </thead>\n",
       "  <tbody>\n",
       "    <tr>\n",
       "      <th>390</th>\n",
       "      <td>391</td>\n",
       "      <td>AZ</td>\n",
       "      <td>Palo Verde</td>\n",
       "      <td>NUC</td>\n",
       "      <td>0.8780</td>\n",
       "      <td>4,209.60</td>\n",
       "      <td>32377477.0</td>\n",
       "      <td>0</td>\n",
       "      <td>0.0</td>\n",
       "    </tr>\n",
       "    <tr>\n",
       "      <th>164</th>\n",
       "      <td>165</td>\n",
       "      <td>AL</td>\n",
       "      <td>Browns Ferry</td>\n",
       "      <td>NUC</td>\n",
       "      <td>0.8565</td>\n",
       "      <td>3,494.00</td>\n",
       "      <td>26214623.0</td>\n",
       "      <td>0</td>\n",
       "      <td>0.0</td>\n",
       "    </tr>\n",
       "    <tr>\n",
       "      <th>7966</th>\n",
       "      <td>7967</td>\n",
       "      <td>PA</td>\n",
       "      <td>Peach Bottom</td>\n",
       "      <td>NUC</td>\n",
       "      <td>0.8968</td>\n",
       "      <td>2,784.60</td>\n",
       "      <td>21875435.0</td>\n",
       "      <td>0</td>\n",
       "      <td>0.0</td>\n",
       "    </tr>\n",
       "    <tr>\n",
       "      <th>8764</th>\n",
       "      <td>8765</td>\n",
       "      <td>TX</td>\n",
       "      <td>South Texas Project</td>\n",
       "      <td>NUC</td>\n",
       "      <td>0.9143</td>\n",
       "      <td>2,708.60</td>\n",
       "      <td>21694303.0</td>\n",
       "      <td>0</td>\n",
       "      <td>0.0</td>\n",
       "    </tr>\n",
       "    <tr>\n",
       "      <th>8157</th>\n",
       "      <td>8158</td>\n",
       "      <td>SC</td>\n",
       "      <td>Oconee</td>\n",
       "      <td>NUC</td>\n",
       "      <td>0.9065</td>\n",
       "      <td>2,666.70</td>\n",
       "      <td>21177103.0</td>\n",
       "      <td>0</td>\n",
       "      <td>0.0</td>\n",
       "    </tr>\n",
       "  </tbody>\n",
       "</table>\n",
       "</div>"
      ],
      "text/plain": [
       "      SEQPLT16 PSTATABB                PNAME PLPRMFL  CAPFAC  NAMEPCAP  \\\n",
       "390        391       AZ           Palo Verde     NUC  0.8780  4,209.60   \n",
       "164        165       AL         Browns Ferry     NUC  0.8565  3,494.00   \n",
       "7966      7967       PA         Peach Bottom     NUC  0.8968  2,784.60   \n",
       "8764      8765       TX  South Texas Project     NUC  0.9143  2,708.60   \n",
       "8157      8158       SC               Oconee     NUC  0.9065  2,666.70   \n",
       "\n",
       "        PLNGENAN PLCO2EQA  co2  \n",
       "390   32377477.0        0  0.0  \n",
       "164   26214623.0        0  0.0  \n",
       "7966  21875435.0        0  0.0  \n",
       "8764  21694303.0        0  0.0  \n",
       "8157  21177103.0        0  0.0  "
      ]
     },
     "execution_count": 38,
     "metadata": {},
     "output_type": "execute_result"
    }
   ],
   "source": [
    "egrid = egrid.sort_values('PLNGENAN', ascending=False)\n",
    "egrid.head()"
   ]
  },
  {
   "cell_type": "code",
   "execution_count": 39,
   "metadata": {},
   "outputs": [
    {
     "data": {
      "text/plain": [
       "'AL'"
      ]
     },
     "execution_count": 39,
     "metadata": {},
     "output_type": "execute_result"
    }
   ],
   "source": [
    "egrid.iloc[1]['PSTATABB']"
   ]
  },
  {
   "cell_type": "markdown",
   "metadata": {},
   "source": [
    "**(4)** What state has the highest average annual net generation for all its power plants?"
   ]
  },
  {
   "cell_type": "code",
   "execution_count": 40,
   "metadata": {},
   "outputs": [
    {
     "data": {
      "text/html": [
       "<div>\n",
       "<style scoped>\n",
       "    .dataframe tbody tr th:only-of-type {\n",
       "        vertical-align: middle;\n",
       "    }\n",
       "\n",
       "    .dataframe tbody tr th {\n",
       "        vertical-align: top;\n",
       "    }\n",
       "\n",
       "    .dataframe thead th {\n",
       "        text-align: right;\n",
       "    }\n",
       "</style>\n",
       "<table border=\"1\" class=\"dataframe\">\n",
       "  <thead>\n",
       "    <tr style=\"text-align: right;\">\n",
       "      <th></th>\n",
       "      <th>PLNGENAN</th>\n",
       "    </tr>\n",
       "    <tr>\n",
       "      <th>PSTATABB</th>\n",
       "      <th></th>\n",
       "    </tr>\n",
       "  </thead>\n",
       "  <tbody>\n",
       "    <tr>\n",
       "      <th>UT</th>\n",
       "      <td>3.775636e+05</td>\n",
       "    </tr>\n",
       "    <tr>\n",
       "      <th>MA</th>\n",
       "      <td>1.075814e+05</td>\n",
       "    </tr>\n",
       "    <tr>\n",
       "      <th>FL</th>\n",
       "      <td>1.577658e+06</td>\n",
       "    </tr>\n",
       "    <tr>\n",
       "      <th>AL</th>\n",
       "      <td>1.957031e+06</td>\n",
       "    </tr>\n",
       "    <tr>\n",
       "      <th>IL</th>\n",
       "      <td>9.233369e+05</td>\n",
       "    </tr>\n",
       "    <tr>\n",
       "      <th>VA</th>\n",
       "      <td>6.805501e+05</td>\n",
       "    </tr>\n",
       "    <tr>\n",
       "      <th>WA</th>\n",
       "      <td>8.513924e+05</td>\n",
       "    </tr>\n",
       "    <tr>\n",
       "      <th>OH</th>\n",
       "      <td>7.722213e+05</td>\n",
       "    </tr>\n",
       "    <tr>\n",
       "      <th>SC</th>\n",
       "      <td>1.010268e+06</td>\n",
       "    </tr>\n",
       "    <tr>\n",
       "      <th>IA</th>\n",
       "      <td>2.365067e+05</td>\n",
       "    </tr>\n",
       "  </tbody>\n",
       "</table>\n",
       "</div>"
      ],
      "text/plain": [
       "              PLNGENAN\n",
       "PSTATABB              \n",
       "UT        3.775636e+05\n",
       "MA        1.075814e+05\n",
       "FL        1.577658e+06\n",
       "AL        1.957031e+06\n",
       "IL        9.233369e+05\n",
       "VA        6.805501e+05\n",
       "WA        8.513924e+05\n",
       "OH        7.722213e+05\n",
       "SC        1.010268e+06\n",
       "IA        2.365067e+05"
      ]
     },
     "execution_count": 40,
     "metadata": {},
     "output_type": "execute_result"
    }
   ],
   "source": [
    "state_avgs = egrid[['PSTATABB', 'PLNGENAN']].groupby('PSTATABB').mean()\n",
    "state_avgs.sample(10)"
   ]
  },
  {
   "cell_type": "code",
   "execution_count": 44,
   "metadata": {},
   "outputs": [
    {
     "data": {
      "text/html": [
       "<div>\n",
       "<style scoped>\n",
       "    .dataframe tbody tr th:only-of-type {\n",
       "        vertical-align: middle;\n",
       "    }\n",
       "\n",
       "    .dataframe tbody tr th {\n",
       "        vertical-align: top;\n",
       "    }\n",
       "\n",
       "    .dataframe thead th {\n",
       "        text-align: right;\n",
       "    }\n",
       "</style>\n",
       "<table border=\"1\" class=\"dataframe\">\n",
       "  <thead>\n",
       "    <tr style=\"text-align: right;\">\n",
       "      <th></th>\n",
       "      <th>PLNGENAN</th>\n",
       "    </tr>\n",
       "    <tr>\n",
       "      <th>PSTATABB</th>\n",
       "      <th></th>\n",
       "    </tr>\n",
       "  </thead>\n",
       "  <tbody>\n",
       "    <tr>\n",
       "      <th>WV</th>\n",
       "      <td>2.169799e+06</td>\n",
       "    </tr>\n",
       "    <tr>\n",
       "      <th>AL</th>\n",
       "      <td>1.957031e+06</td>\n",
       "    </tr>\n",
       "    <tr>\n",
       "      <th>KY</th>\n",
       "      <td>1.745076e+06</td>\n",
       "    </tr>\n",
       "    <tr>\n",
       "      <th>MS</th>\n",
       "      <td>1.612341e+06</td>\n",
       "    </tr>\n",
       "    <tr>\n",
       "      <th>FL</th>\n",
       "      <td>1.577658e+06</td>\n",
       "    </tr>\n",
       "  </tbody>\n",
       "</table>\n",
       "</div>"
      ],
      "text/plain": [
       "              PLNGENAN\n",
       "PSTATABB              \n",
       "WV        2.169799e+06\n",
       "AL        1.957031e+06\n",
       "KY        1.745076e+06\n",
       "MS        1.612341e+06\n",
       "FL        1.577658e+06"
      ]
     },
     "execution_count": 44,
     "metadata": {},
     "output_type": "execute_result"
    }
   ],
   "source": [
    "state_avgs.sort_values('PLNGENAN', ascending=False).head()"
   ]
  },
  {
   "cell_type": "markdown",
   "metadata": {},
   "source": [
    "### Merging in Location Data\n",
    "\n",
    "For these next questions, download the file egrid2016_locations.xlsx from [https://bit.ly/2YSReuR](https://bit.ly/2YSReuR) (that's two, capital Y, capital S, capital R, lower case e, lower case u, capital R), then merge that dataset with the data you are already using on the variable `SEQPLT16`.\n",
    "\n",
    "Note that the headers for this datadset are on the second row and you'll want to ignore the first row (they're more detailed descriptions of the headers).\n",
    "\n",
    "**(5)** What is the name of the northern-most power plant in the United States (i.e. the plant with this highest value of latitude (`LAT`)?"
   ]
  },
  {
   "cell_type": "code",
   "execution_count": 48,
   "metadata": {},
   "outputs": [],
   "source": [
    "locations = pd.read_excel('/users/nick/downloads/egrid2016_locations.xlsx',\n",
    "                         header = 1)"
   ]
  },
  {
   "cell_type": "code",
   "execution_count": 49,
   "metadata": {},
   "outputs": [
    {
     "data": {
      "text/html": [
       "<div>\n",
       "<style scoped>\n",
       "    .dataframe tbody tr th:only-of-type {\n",
       "        vertical-align: middle;\n",
       "    }\n",
       "\n",
       "    .dataframe tbody tr th {\n",
       "        vertical-align: top;\n",
       "    }\n",
       "\n",
       "    .dataframe thead th {\n",
       "        text-align: right;\n",
       "    }\n",
       "</style>\n",
       "<table border=\"1\" class=\"dataframe\">\n",
       "  <thead>\n",
       "    <tr style=\"text-align: right;\">\n",
       "      <th></th>\n",
       "      <th>SEQPLT16</th>\n",
       "      <th>PSTATABB</th>\n",
       "      <th>PNAME</th>\n",
       "      <th>LAT</th>\n",
       "      <th>LON</th>\n",
       "    </tr>\n",
       "  </thead>\n",
       "  <tbody>\n",
       "    <tr>\n",
       "      <th>0</th>\n",
       "      <td>1</td>\n",
       "      <td>AK</td>\n",
       "      <td>7-Mile Ridge Wind Project</td>\n",
       "      <td>63.210689</td>\n",
       "      <td>-143.247156</td>\n",
       "    </tr>\n",
       "    <tr>\n",
       "      <th>1</th>\n",
       "      <td>2</td>\n",
       "      <td>AK</td>\n",
       "      <td>Agrium Kenai Nitrogen Operations</td>\n",
       "      <td>60.673200</td>\n",
       "      <td>-151.378400</td>\n",
       "    </tr>\n",
       "    <tr>\n",
       "      <th>2</th>\n",
       "      <td>3</td>\n",
       "      <td>AK</td>\n",
       "      <td>Alakanuk</td>\n",
       "      <td>62.683300</td>\n",
       "      <td>-164.654400</td>\n",
       "    </tr>\n",
       "    <tr>\n",
       "      <th>3</th>\n",
       "      <td>4</td>\n",
       "      <td>AK</td>\n",
       "      <td>Allison Creek Hydro</td>\n",
       "      <td>61.084444</td>\n",
       "      <td>-146.353333</td>\n",
       "    </tr>\n",
       "    <tr>\n",
       "      <th>4</th>\n",
       "      <td>5</td>\n",
       "      <td>AK</td>\n",
       "      <td>Ambler</td>\n",
       "      <td>67.087980</td>\n",
       "      <td>-157.856719</td>\n",
       "    </tr>\n",
       "  </tbody>\n",
       "</table>\n",
       "</div>"
      ],
      "text/plain": [
       "   SEQPLT16 PSTATABB                             PNAME        LAT         LON\n",
       "0         1       AK         7-Mile Ridge Wind Project  63.210689 -143.247156\n",
       "1         2       AK  Agrium Kenai Nitrogen Operations  60.673200 -151.378400\n",
       "2         3       AK                          Alakanuk  62.683300 -164.654400\n",
       "3         4       AK               Allison Creek Hydro  61.084444 -146.353333\n",
       "4         5       AK                            Ambler  67.087980 -157.856719"
      ]
     },
     "execution_count": 49,
     "metadata": {},
     "output_type": "execute_result"
    }
   ],
   "source": [
    "locations.head()"
   ]
  },
  {
   "cell_type": "code",
   "execution_count": 50,
   "metadata": {},
   "outputs": [
    {
     "data": {
      "text/html": [
       "<div>\n",
       "<style scoped>\n",
       "    .dataframe tbody tr th:only-of-type {\n",
       "        vertical-align: middle;\n",
       "    }\n",
       "\n",
       "    .dataframe tbody tr th {\n",
       "        vertical-align: top;\n",
       "    }\n",
       "\n",
       "    .dataframe thead th {\n",
       "        text-align: right;\n",
       "    }\n",
       "</style>\n",
       "<table border=\"1\" class=\"dataframe\">\n",
       "  <thead>\n",
       "    <tr style=\"text-align: right;\">\n",
       "      <th></th>\n",
       "      <th>SEQPLT16</th>\n",
       "      <th>PSTATABB_x</th>\n",
       "      <th>PNAME_x</th>\n",
       "      <th>PLPRMFL</th>\n",
       "      <th>CAPFAC</th>\n",
       "      <th>NAMEPCAP</th>\n",
       "      <th>PLNGENAN</th>\n",
       "      <th>PLCO2EQA</th>\n",
       "      <th>co2</th>\n",
       "      <th>PSTATABB_y</th>\n",
       "      <th>PNAME_y</th>\n",
       "      <th>LAT</th>\n",
       "      <th>LON</th>\n",
       "    </tr>\n",
       "  </thead>\n",
       "  <tbody>\n",
       "    <tr>\n",
       "      <th>0</th>\n",
       "      <td>391</td>\n",
       "      <td>AZ</td>\n",
       "      <td>Palo Verde</td>\n",
       "      <td>NUC</td>\n",
       "      <td>0.8780</td>\n",
       "      <td>4,209.60</td>\n",
       "      <td>32377477.0</td>\n",
       "      <td>0</td>\n",
       "      <td>0.0</td>\n",
       "      <td>AZ</td>\n",
       "      <td>Palo Verde</td>\n",
       "      <td>33.388100</td>\n",
       "      <td>-112.861700</td>\n",
       "    </tr>\n",
       "    <tr>\n",
       "      <th>1</th>\n",
       "      <td>165</td>\n",
       "      <td>AL</td>\n",
       "      <td>Browns Ferry</td>\n",
       "      <td>NUC</td>\n",
       "      <td>0.8565</td>\n",
       "      <td>3,494.00</td>\n",
       "      <td>26214623.0</td>\n",
       "      <td>0</td>\n",
       "      <td>0.0</td>\n",
       "      <td>AL</td>\n",
       "      <td>Browns Ferry</td>\n",
       "      <td>34.704200</td>\n",
       "      <td>-87.118900</td>\n",
       "    </tr>\n",
       "    <tr>\n",
       "      <th>2</th>\n",
       "      <td>7967</td>\n",
       "      <td>PA</td>\n",
       "      <td>Peach Bottom</td>\n",
       "      <td>NUC</td>\n",
       "      <td>0.8968</td>\n",
       "      <td>2,784.60</td>\n",
       "      <td>21875435.0</td>\n",
       "      <td>0</td>\n",
       "      <td>0.0</td>\n",
       "      <td>PA</td>\n",
       "      <td>Peach Bottom</td>\n",
       "      <td>39.758936</td>\n",
       "      <td>-76.268742</td>\n",
       "    </tr>\n",
       "    <tr>\n",
       "      <th>3</th>\n",
       "      <td>8765</td>\n",
       "      <td>TX</td>\n",
       "      <td>South Texas Project</td>\n",
       "      <td>NUC</td>\n",
       "      <td>0.9143</td>\n",
       "      <td>2,708.60</td>\n",
       "      <td>21694303.0</td>\n",
       "      <td>0</td>\n",
       "      <td>0.0</td>\n",
       "      <td>TX</td>\n",
       "      <td>South Texas Project</td>\n",
       "      <td>28.795000</td>\n",
       "      <td>-96.048100</td>\n",
       "    </tr>\n",
       "    <tr>\n",
       "      <th>4</th>\n",
       "      <td>8158</td>\n",
       "      <td>SC</td>\n",
       "      <td>Oconee</td>\n",
       "      <td>NUC</td>\n",
       "      <td>0.9065</td>\n",
       "      <td>2,666.70</td>\n",
       "      <td>21177103.0</td>\n",
       "      <td>0</td>\n",
       "      <td>0.0</td>\n",
       "      <td>SC</td>\n",
       "      <td>Oconee</td>\n",
       "      <td>34.793900</td>\n",
       "      <td>-82.898600</td>\n",
       "    </tr>\n",
       "  </tbody>\n",
       "</table>\n",
       "</div>"
      ],
      "text/plain": [
       "   SEQPLT16 PSTATABB_x              PNAME_x PLPRMFL  CAPFAC  NAMEPCAP  \\\n",
       "0       391         AZ           Palo Verde     NUC  0.8780  4,209.60   \n",
       "1       165         AL         Browns Ferry     NUC  0.8565  3,494.00   \n",
       "2      7967         PA         Peach Bottom     NUC  0.8968  2,784.60   \n",
       "3      8765         TX  South Texas Project     NUC  0.9143  2,708.60   \n",
       "4      8158         SC               Oconee     NUC  0.9065  2,666.70   \n",
       "\n",
       "     PLNGENAN PLCO2EQA  co2 PSTATABB_y              PNAME_y        LAT  \\\n",
       "0  32377477.0        0  0.0         AZ           Palo Verde  33.388100   \n",
       "1  26214623.0        0  0.0         AL         Browns Ferry  34.704200   \n",
       "2  21875435.0        0  0.0         PA         Peach Bottom  39.758936   \n",
       "3  21694303.0        0  0.0         TX  South Texas Project  28.795000   \n",
       "4  21177103.0        0  0.0         SC               Oconee  34.793900   \n",
       "\n",
       "          LON  \n",
       "0 -112.861700  \n",
       "1  -87.118900  \n",
       "2  -76.268742  \n",
       "3  -96.048100  \n",
       "4  -82.898600  "
      ]
     },
     "execution_count": 50,
     "metadata": {},
     "output_type": "execute_result"
    }
   ],
   "source": [
    "merged = pd.merge(egrid, locations, on='SEQPLT16', validate='1:1')\n",
    "merged.head()"
   ]
  },
  {
   "cell_type": "code",
   "execution_count": 51,
   "metadata": {},
   "outputs": [
    {
     "data": {
      "text/plain": [
       "Index(['SEQPLT16', 'PSTATABB_x', 'PNAME_x', 'PLPRMFL', 'CAPFAC', 'NAMEPCAP',\n",
       "       'PLNGENAN', 'PLCO2EQA', 'co2', 'PSTATABB_y', 'PNAME_y', 'LAT', 'LON'],\n",
       "      dtype='object')"
      ]
     },
     "execution_count": 51,
     "metadata": {},
     "output_type": "execute_result"
    }
   ],
   "source": [
    "merged.columns"
   ]
  },
  {
   "cell_type": "code",
   "execution_count": 52,
   "metadata": {},
   "outputs": [
    {
     "data": {
      "text/html": [
       "<div>\n",
       "<style scoped>\n",
       "    .dataframe tbody tr th:only-of-type {\n",
       "        vertical-align: middle;\n",
       "    }\n",
       "\n",
       "    .dataframe tbody tr th {\n",
       "        vertical-align: top;\n",
       "    }\n",
       "\n",
       "    .dataframe thead th {\n",
       "        text-align: right;\n",
       "    }\n",
       "</style>\n",
       "<table border=\"1\" class=\"dataframe\">\n",
       "  <thead>\n",
       "    <tr style=\"text-align: right;\">\n",
       "      <th></th>\n",
       "      <th>SEQPLT16</th>\n",
       "      <th>PSTATABB_x</th>\n",
       "      <th>PNAME_x</th>\n",
       "      <th>PLPRMFL</th>\n",
       "      <th>CAPFAC</th>\n",
       "      <th>NAMEPCAP</th>\n",
       "      <th>PLNGENAN</th>\n",
       "      <th>PLCO2EQA</th>\n",
       "      <th>co2</th>\n",
       "      <th>PSTATABB_y</th>\n",
       "      <th>PNAME_y</th>\n",
       "      <th>LAT</th>\n",
       "      <th>LON</th>\n",
       "    </tr>\n",
       "  </thead>\n",
       "  <tbody>\n",
       "    <tr>\n",
       "      <th>2974</th>\n",
       "      <td>12</td>\n",
       "      <td>AK</td>\n",
       "      <td>Barrow</td>\n",
       "      <td>NG</td>\n",
       "      <td>0.2821</td>\n",
       "      <td>20.3</td>\n",
       "      <td>50162.0</td>\n",
       "      <td>44,205</td>\n",
       "      <td>44205.0</td>\n",
       "      <td>AK</td>\n",
       "      <td>Barrow</td>\n",
       "      <td>71.292000</td>\n",
       "      <td>-156.778600</td>\n",
       "    </tr>\n",
       "    <tr>\n",
       "      <th>5114</th>\n",
       "      <td>94</td>\n",
       "      <td>AK</td>\n",
       "      <td>NSB Wainwright Utility</td>\n",
       "      <td>DFO</td>\n",
       "      <td>0.2351</td>\n",
       "      <td>3.3</td>\n",
       "      <td>6796.0</td>\n",
       "      <td>6,221</td>\n",
       "      <td>6221.0</td>\n",
       "      <td>AK</td>\n",
       "      <td>NSB Wainwright Utility</td>\n",
       "      <td>70.642877</td>\n",
       "      <td>-160.020461</td>\n",
       "    </tr>\n",
       "    <tr>\n",
       "      <th>6056</th>\n",
       "      <td>89</td>\n",
       "      <td>AK</td>\n",
       "      <td>NSB Atqasuk Utility</td>\n",
       "      <td>DFO</td>\n",
       "      <td>0.0960</td>\n",
       "      <td>3.4</td>\n",
       "      <td>2859.0</td>\n",
       "      <td>2,930</td>\n",
       "      <td>2930.0</td>\n",
       "      <td>AK</td>\n",
       "      <td>NSB Atqasuk Utility</td>\n",
       "      <td>70.482600</td>\n",
       "      <td>-157.425200</td>\n",
       "    </tr>\n",
       "    <tr>\n",
       "      <th>2634</th>\n",
       "      <td>132</td>\n",
       "      <td>AK</td>\n",
       "      <td>TNSG North Plant</td>\n",
       "      <td>NG</td>\n",
       "      <td>0.3229</td>\n",
       "      <td>25.7</td>\n",
       "      <td>72702.0</td>\n",
       "      <td>55,911</td>\n",
       "      <td>55911.0</td>\n",
       "      <td>AK</td>\n",
       "      <td>TNSG North Plant</td>\n",
       "      <td>70.235278</td>\n",
       "      <td>-148.383611</td>\n",
       "    </tr>\n",
       "    <tr>\n",
       "      <th>5181</th>\n",
       "      <td>91</td>\n",
       "      <td>AK</td>\n",
       "      <td>NSB Nuiqsut Utility</td>\n",
       "      <td>DFO</td>\n",
       "      <td>0.1510</td>\n",
       "      <td>4.8</td>\n",
       "      <td>6349.0</td>\n",
       "      <td>5,825</td>\n",
       "      <td>5825.0</td>\n",
       "      <td>AK</td>\n",
       "      <td>NSB Nuiqsut Utility</td>\n",
       "      <td>70.220565</td>\n",
       "      <td>-150.993492</td>\n",
       "    </tr>\n",
       "  </tbody>\n",
       "</table>\n",
       "</div>"
      ],
      "text/plain": [
       "      SEQPLT16 PSTATABB_x                 PNAME_x PLPRMFL  CAPFAC NAMEPCAP  \\\n",
       "2974        12         AK                  Barrow      NG  0.2821     20.3   \n",
       "5114        94         AK  NSB Wainwright Utility     DFO  0.2351      3.3   \n",
       "6056        89         AK     NSB Atqasuk Utility     DFO  0.0960      3.4   \n",
       "2634       132         AK        TNSG North Plant      NG  0.3229     25.7   \n",
       "5181        91         AK     NSB Nuiqsut Utility     DFO  0.1510      4.8   \n",
       "\n",
       "      PLNGENAN PLCO2EQA      co2 PSTATABB_y                 PNAME_y  \\\n",
       "2974   50162.0   44,205  44205.0         AK                  Barrow   \n",
       "5114    6796.0    6,221   6221.0         AK  NSB Wainwright Utility   \n",
       "6056    2859.0    2,930   2930.0         AK     NSB Atqasuk Utility   \n",
       "2634   72702.0   55,911  55911.0         AK        TNSG North Plant   \n",
       "5181    6349.0    5,825   5825.0         AK     NSB Nuiqsut Utility   \n",
       "\n",
       "            LAT         LON  \n",
       "2974  71.292000 -156.778600  \n",
       "5114  70.642877 -160.020461  \n",
       "6056  70.482600 -157.425200  \n",
       "2634  70.235278 -148.383611  \n",
       "5181  70.220565 -150.993492  "
      ]
     },
     "execution_count": 52,
     "metadata": {},
     "output_type": "execute_result"
    }
   ],
   "source": [
    "merged = merged.sort_values('LAT', ascending=False)\n",
    "merged.head()"
   ]
  },
  {
   "cell_type": "code",
   "execution_count": 53,
   "metadata": {},
   "outputs": [
    {
     "data": {
      "text/plain": [
       "'Barrow'"
      ]
     },
     "execution_count": 53,
     "metadata": {},
     "output_type": "execute_result"
    }
   ],
   "source": [
    "merged.iloc[0]['PNAME_x']"
   ]
  },
  {
   "cell_type": "markdown",
   "metadata": {},
   "source": [
    "**(6)** What is the state where the northern-most power plant in the United States is located?"
   ]
  },
  {
   "cell_type": "code",
   "execution_count": 54,
   "metadata": {},
   "outputs": [
    {
     "data": {
      "text/plain": [
       "'AK'"
      ]
     },
     "execution_count": 54,
     "metadata": {},
     "output_type": "execute_result"
    }
   ],
   "source": [
    "merged.iloc[0]['PSTATABB_x']"
   ]
  },
  {
   "cell_type": "markdown",
   "metadata": {},
   "source": [
    "## Part 5: Pascal's Triangle"
   ]
  },
  {
   "cell_type": "markdown",
   "metadata": {},
   "source": [
    "**(1)** What's the sum of all of the values in the row 250 of Pascal's Triangle?\n"
   ]
  },
  {
   "cell_type": "code",
   "execution_count": 135,
   "metadata": {},
   "outputs": [
    {
     "data": {
      "text/plain": [
       "[[1], [1, 1]]"
      ]
     },
     "execution_count": 135,
     "metadata": {},
     "output_type": "execute_result"
    }
   ],
   "source": [
    "# Initialize\n",
    "triangle = list()\n",
    "triangle.append([1])\n",
    "triangle.append([1, 1])\n",
    "triangle"
   ]
  },
  {
   "cell_type": "code",
   "execution_count": 136,
   "metadata": {},
   "outputs": [],
   "source": [
    "for i in range(2, 250):\n",
    "    last_row = triangle[i - 1]\n",
    "    length_of_new_row = i + 1\n",
    "    new_row = [1]\n",
    "    for i in range(1, length_of_new_row-1):\n",
    "        new_row.append(last_row[i-1] + last_row[i])\n",
    "    new_row.append(1)\n",
    "    triangle.append(new_row)"
   ]
  },
  {
   "cell_type": "code",
   "execution_count": 137,
   "metadata": {},
   "outputs": [],
   "source": [
    "# Make sure did right!\n",
    "assert len(triangle) == 250"
   ]
  },
  {
   "cell_type": "code",
   "execution_count": 138,
   "metadata": {},
   "outputs": [
    {
     "name": "stdout",
     "output_type": "stream",
     "text": [
      "[1]\n",
      "[1, 1]\n",
      "[1, 2, 1]\n",
      "[1, 3, 3, 1]\n",
      "[1, 4, 6, 4, 1]\n"
     ]
    }
   ],
   "source": [
    "for i in range(5):\n",
    "    print(triangle[i])"
   ]
  },
  {
   "cell_type": "code",
   "execution_count": 139,
   "metadata": {},
   "outputs": [
    {
     "data": {
      "text/plain": [
       "904625697166532776746648320380374280103671755200316906558262375061821325312"
      ]
     },
     "execution_count": 139,
     "metadata": {},
     "output_type": "execute_result"
    }
   ],
   "source": [
    "sum(triangle[249])"
   ]
  },
  {
   "cell_type": "code",
   "execution_count": 141,
   "metadata": {},
   "outputs": [
    {
     "data": {
      "text/plain": [
       "9.046256971665328e+74"
      ]
     },
     "execution_count": 141,
     "metadata": {},
     "output_type": "execute_result"
    }
   ],
   "source": [
    "float(total)"
   ]
  },
  {
   "cell_type": "code",
   "execution_count": 143,
   "metadata": {},
   "outputs": [
    {
     "data": {
      "text/plain": [
       "[1,\n",
       " 249,\n",
       " 30876,\n",
       " 2542124,\n",
       " 156340626,\n",
       " 7660690674,\n",
       " 311534754076,\n",
       " 10814706462924,\n",
       " 327144870503451,\n",
       " 8760212643481299,\n",
       " 210245103443551176,\n",
       " 4568052702091702824,\n",
       " 90599711924818772676,\n",
       " 1651702440475542240324,\n",
       " 27842983996587712051176,\n",
       " 436206749279874155468424,\n",
       " 6379523708218159523725701,\n",
       " 87437001412637127589887549,\n",
       " 1126965795985100755602995076,\n",
       " 13701531519608330239173255924,\n",
       " 157567612475495797750492443126,\n",
       " 1718237297947073223088703308374,\n",
       " 17807186542360577039282925195876,\n",
       " 175749188918080477735531479107124,\n",
       " 1654971528978591165342921428258751,\n",
       " 14894743760807320488086292854328759,\n",
       " 128323946246955376512743446129601616,\n",
       " 1059860741224853665271918092107450384,\n",
       " 8403181591139911203227350587423356616,\n",
       " 64038039022135185376318775166226269384,\n",
       " 469612286162324692759671017885659308816,\n",
       " 3317583569985455087560256545708367375184,\n",
       " 22601038070525912784004247717638252743441,\n",
       " 148618947312246153761482477415984874100809,\n",
       " 944167429983681447425888680054492141346316,\n",
       " 5799885641328328891330459034620451725413084,\n",
       " 34477097979007288409575506483577129701066666,\n",
       " 198476266744014930574042780567619692603437834,\n",
       " 1107288646045556981097291302114088811366547916,\n",
       " 5990715495272115974654576019130070235854913084,\n",
       " 31451256350178608866936524100432868738238293691,\n",
       " 160324697004569006175359354560743160153458619059,\n",
       " 793988975641675078201779660681775650283795065816,\n",
       " 3822225999019226539250427668863431618808036712184,\n",
       " 17894967177226378797399729540587884397146717334316,\n",
       " 81521517140697947854820990129344806698112823411884,\n",
       " 361530206450051768747466999704050881878587303826616,\n",
       " 1561502806582138490547570232764304872794749418655384,\n",
       " 6571324311033166147721024729549783006344570470174741,\n",
       " 26955840541176865218202570829377681311739972745002509,\n",
       " 107823362164707460872810283317510725246959890980010036,\n",
       " 420722530799544798307632281964404594591078790294548964,\n",
       " 1601981944198266732017522919787540571712184624583090286,\n",
       " 5954536660510538607687773871663122502401893793261675214,\n",
       " 21612762693704917909385253311962444638347614508875710036,\n",
       " 76627067732226527133274989015139576445050633258741153764,\n",
       " 265458056072356183283131211945304961256068265217781854111,\n",
       " 898831663543241111818321472025330833726687283983015751639,\n",
       " 2975442748281074025329615907394198621991792388357569384736,\n",
       " 9632365507147205743016214208682914183058175358920266991264,\n",
       " 30502490772632818186218011660829228246350888636580845472336,\n",
       " 94507717311927912085167282031093838337054392660881635971664,\n",
       " 286571787978103991484055629384607122699455255165253992946336,\n",
       " 850617846855642006468546074522563999123779884379404709221664,\n",
       " 2472108117424209581299212029081201622453485288977644936175461,\n",
       " 7036000026515058039082372698154189233136842745551758664499389,\n",
       " 19615515225435919381684190552429860892381500987598842337392236,\n",
       " 53576705764996615624600102553651709601579323592993852951384764,\n",
       " 143396477194549765348194392128891340404227013145954135840470986,\n",
       " 376155976408891413449611376454048298741523034484314472277177514,\n",
       " 967258225051435063156143539453267053906773517245380071569885036,\n",
       " 2438580595552209525421826669889222572525527599815817363535343964,\n",
       " 6028713139004073548959515933892800248743665455100215148740155911,\n",
       " 14617564734297548194052524935603091014077106651407370977082295839,\n",
       " 34766099908599574083151951198191135384832037441185098540087622536,\n",
       " 81120899786732339527354552795779315897941420696098563260204452584,\n",
       " 185724165301202987865259107716652644292655357909488815885204930916,\n",
       " 417276371391014505203763969285466330683498401536903443482343546084,\n",
       " 920147895887878139680094906629489857404637500824966567679013973416,\n",
       " 1991712534137052682092357329539781843242949527102142823710270752584,\n",
       " 4232389135041236949446259325272036416891267745092053500384325349241,\n",
       " 8830540294098383264894047234209557462402768505192062241542604741009,\n",
       " 18091838651323516932953657748136654313215428156978859226575092640116,\n",
       " 36401651262301534069918805348660497232614174725487584226964343022884,\n",
       " 71936596542167317328649067712829077864451821481320702162810487402366,\n",
       " 139641628581854204226201131442550562913347653463740186551338004957534,\n",
       " 266293338225861505733685878564863864160337385675039425516505032709716,\n",
       " 498917403802476154420583887426124251242930963965878463898739314157284,\n",
       " 918461584272740193365165792761728735242668365482639899449951919244091,\n",
       " 1661486686156305293615636995894812655888422548794438469791486056160659,\n",
       " 2953754108722320521983354659368555832690528975634557279629308544285616,\n",
       " 5160954981174164428520366932303300850525209968416424257813846797158384,\n",
       " 8863379206799108475067586688086103634597643206628206877549867325554616,\n",
       " 14962908983521075597694743118596970651955161112264822363175582474323384,\n",
       " 24832061717332848864259360920224759805372395037375662645270115595685616,\n",
       " 40515469117753595515370536238261450208765486639928712737019662287697584,\n",
       " 64993565043063059472573568548877743043227968151552310015635708253181541,\n",
       " 102515623212254104116533566886374172016637929146262921983425395492131709,\n",
       " 159003823757781875772582675170702797413560869696244532055925103212285916,\n",
       " 242520983711364275168282666169455781913613043678110346873178692778335084,\n",
       " 363781475567046412752423999254183672870419565517165520309768039167502626,\n",
       " 536667721381088272278328474147261061957351636257996658674806315207503874,\n",
       " 778694340827461414678358962488182717349882766335132406704620927948142876,\n",
       " 1111340467006182795706007451318086014081871520886062755199798800081330124,\n",
       " 1560151040220218155510356614350389981307242712013126560184332930883405751,\n",
       " 2154494293637444119514301991245776640852858983256222392635507380743750799,\n",
       " 2926860172488603332170372516409356946064261260272604005089745875727359576,\n",
       " 3911598174447385761685638035948953675581208974009181053531155703074882424,\n",
       " 5143027229366007205179264825043994647523441428789849162976149165154012076,\n",
       " 6652906782941348770002535232396360048631240747333658091556303048501978924,\n",
       " 8467335905561716616366863023049912789167033678424655752889840243547973176,\n",
       " 10603240458316023510585531173008449348596555687396640987853043187866380824,\n",
       " 13064706993282243254114315195313982233092184686256575502890356785049647801,\n",
       " 15839512018404135626669567980159429787023268159443812777840521057980546449,\n",
       " 18896259951780372326553168818435810973992670786704899454265884770924160676,\n",
       " 22182566030350871861605893830337691143382700488740534141964299513693579924,\n",
       " 25624688345405317495303360114355608734597257461131306681234621852025342326,\n",
       " 29128919230247070315173905087258939843602010618209092210292347917259577174,\n",
       " 32584892698242485437313181962018475079283605098335594675920253602358171076,\n",
       " 35870764230838366321748124680877480969631531662873637836517253965621179924,\n",
       " 38859994583408230181893801737617271050434159301446440989560358462756278251,\n",
       " 41429250423633567714580995240930809632281045866831329650027159022277354499,\n",
       " 43466754542828661208740716318353636335507982548806640944290789793864765376,\n",
       " 44880307536091381898455861564478957842353770599174336584755530925372562624,\n",
       " 45604183464092855800043859331647973291423992705612632336122555617717281376,\n",
       " 45604183464092855800043859331647973291423992705612632336122555617717281376,\n",
       " 44880307536091381898455861564478957842353770599174336584755530925372562624,\n",
       " 43466754542828661208740716318353636335507982548806640944290789793864765376,\n",
       " 41429250423633567714580995240930809632281045866831329650027159022277354499,\n",
       " 38859994583408230181893801737617271050434159301446440989560358462756278251,\n",
       " 35870764230838366321748124680877480969631531662873637836517253965621179924,\n",
       " 32584892698242485437313181962018475079283605098335594675920253602358171076,\n",
       " 29128919230247070315173905087258939843602010618209092210292347917259577174,\n",
       " 25624688345405317495303360114355608734597257461131306681234621852025342326,\n",
       " 22182566030350871861605893830337691143382700488740534141964299513693579924,\n",
       " 18896259951780372326553168818435810973992670786704899454265884770924160676,\n",
       " 15839512018404135626669567980159429787023268159443812777840521057980546449,\n",
       " 13064706993282243254114315195313982233092184686256575502890356785049647801,\n",
       " 10603240458316023510585531173008449348596555687396640987853043187866380824,\n",
       " 8467335905561716616366863023049912789167033678424655752889840243547973176,\n",
       " 6652906782941348770002535232396360048631240747333658091556303048501978924,\n",
       " 5143027229366007205179264825043994647523441428789849162976149165154012076,\n",
       " 3911598174447385761685638035948953675581208974009181053531155703074882424,\n",
       " 2926860172488603332170372516409356946064261260272604005089745875727359576,\n",
       " 2154494293637444119514301991245776640852858983256222392635507380743750799,\n",
       " 1560151040220218155510356614350389981307242712013126560184332930883405751,\n",
       " 1111340467006182795706007451318086014081871520886062755199798800081330124,\n",
       " 778694340827461414678358962488182717349882766335132406704620927948142876,\n",
       " 536667721381088272278328474147261061957351636257996658674806315207503874,\n",
       " 363781475567046412752423999254183672870419565517165520309768039167502626,\n",
       " 242520983711364275168282666169455781913613043678110346873178692778335084,\n",
       " 159003823757781875772582675170702797413560869696244532055925103212285916,\n",
       " 102515623212254104116533566886374172016637929146262921983425395492131709,\n",
       " 64993565043063059472573568548877743043227968151552310015635708253181541,\n",
       " 40515469117753595515370536238261450208765486639928712737019662287697584,\n",
       " 24832061717332848864259360920224759805372395037375662645270115595685616,\n",
       " 14962908983521075597694743118596970651955161112264822363175582474323384,\n",
       " 8863379206799108475067586688086103634597643206628206877549867325554616,\n",
       " 5160954981174164428520366932303300850525209968416424257813846797158384,\n",
       " 2953754108722320521983354659368555832690528975634557279629308544285616,\n",
       " 1661486686156305293615636995894812655888422548794438469791486056160659,\n",
       " 918461584272740193365165792761728735242668365482639899449951919244091,\n",
       " 498917403802476154420583887426124251242930963965878463898739314157284,\n",
       " 266293338225861505733685878564863864160337385675039425516505032709716,\n",
       " 139641628581854204226201131442550562913347653463740186551338004957534,\n",
       " 71936596542167317328649067712829077864451821481320702162810487402366,\n",
       " 36401651262301534069918805348660497232614174725487584226964343022884,\n",
       " 18091838651323516932953657748136654313215428156978859226575092640116,\n",
       " 8830540294098383264894047234209557462402768505192062241542604741009,\n",
       " 4232389135041236949446259325272036416891267745092053500384325349241,\n",
       " 1991712534137052682092357329539781843242949527102142823710270752584,\n",
       " 920147895887878139680094906629489857404637500824966567679013973416,\n",
       " 417276371391014505203763969285466330683498401536903443482343546084,\n",
       " 185724165301202987865259107716652644292655357909488815885204930916,\n",
       " 81120899786732339527354552795779315897941420696098563260204452584,\n",
       " 34766099908599574083151951198191135384832037441185098540087622536,\n",
       " 14617564734297548194052524935603091014077106651407370977082295839,\n",
       " 6028713139004073548959515933892800248743665455100215148740155911,\n",
       " 2438580595552209525421826669889222572525527599815817363535343964,\n",
       " 967258225051435063156143539453267053906773517245380071569885036,\n",
       " 376155976408891413449611376454048298741523034484314472277177514,\n",
       " 143396477194549765348194392128891340404227013145954135840470986,\n",
       " 53576705764996615624600102553651709601579323592993852951384764,\n",
       " 19615515225435919381684190552429860892381500987598842337392236,\n",
       " 7036000026515058039082372698154189233136842745551758664499389,\n",
       " 2472108117424209581299212029081201622453485288977644936175461,\n",
       " 850617846855642006468546074522563999123779884379404709221664,\n",
       " 286571787978103991484055629384607122699455255165253992946336,\n",
       " 94507717311927912085167282031093838337054392660881635971664,\n",
       " 30502490772632818186218011660829228246350888636580845472336,\n",
       " 9632365507147205743016214208682914183058175358920266991264,\n",
       " 2975442748281074025329615907394198621991792388357569384736,\n",
       " 898831663543241111818321472025330833726687283983015751639,\n",
       " 265458056072356183283131211945304961256068265217781854111,\n",
       " 76627067732226527133274989015139576445050633258741153764,\n",
       " 21612762693704917909385253311962444638347614508875710036,\n",
       " 5954536660510538607687773871663122502401893793261675214,\n",
       " 1601981944198266732017522919787540571712184624583090286,\n",
       " 420722530799544798307632281964404594591078790294548964,\n",
       " 107823362164707460872810283317510725246959890980010036,\n",
       " 26955840541176865218202570829377681311739972745002509,\n",
       " 6571324311033166147721024729549783006344570470174741,\n",
       " 1561502806582138490547570232764304872794749418655384,\n",
       " 361530206450051768747466999704050881878587303826616,\n",
       " 81521517140697947854820990129344806698112823411884,\n",
       " 17894967177226378797399729540587884397146717334316,\n",
       " 3822225999019226539250427668863431618808036712184,\n",
       " 793988975641675078201779660681775650283795065816,\n",
       " 160324697004569006175359354560743160153458619059,\n",
       " 31451256350178608866936524100432868738238293691,\n",
       " 5990715495272115974654576019130070235854913084,\n",
       " 1107288646045556981097291302114088811366547916,\n",
       " 198476266744014930574042780567619692603437834,\n",
       " 34477097979007288409575506483577129701066666,\n",
       " 5799885641328328891330459034620451725413084,\n",
       " 944167429983681447425888680054492141346316,\n",
       " 148618947312246153761482477415984874100809,\n",
       " 22601038070525912784004247717638252743441,\n",
       " 3317583569985455087560256545708367375184,\n",
       " 469612286162324692759671017885659308816,\n",
       " 64038039022135185376318775166226269384,\n",
       " 8403181591139911203227350587423356616,\n",
       " 1059860741224853665271918092107450384,\n",
       " 128323946246955376512743446129601616,\n",
       " 14894743760807320488086292854328759,\n",
       " 1654971528978591165342921428258751,\n",
       " 175749188918080477735531479107124,\n",
       " 17807186542360577039282925195876,\n",
       " 1718237297947073223088703308374,\n",
       " 157567612475495797750492443126,\n",
       " 13701531519608330239173255924,\n",
       " 1126965795985100755602995076,\n",
       " 87437001412637127589887549,\n",
       " 6379523708218159523725701,\n",
       " 436206749279874155468424,\n",
       " 27842983996587712051176,\n",
       " 1651702440475542240324,\n",
       " 90599711924818772676,\n",
       " 4568052702091702824,\n",
       " 210245103443551176,\n",
       " 8760212643481299,\n",
       " 327144870503451,\n",
       " 10814706462924,\n",
       " 311534754076,\n",
       " 7660690674,\n",
       " 156340626,\n",
       " 2542124,\n",
       " 30876,\n",
       " 249,\n",
       " 1]"
      ]
     },
     "execution_count": 143,
     "metadata": {},
     "output_type": "execute_result"
    }
   ],
   "source": [
    "triangle[249]"
   ]
  },
  {
   "cell_type": "code",
   "execution_count": null,
   "metadata": {},
   "outputs": [],
   "source": []
  }
 ],
 "metadata": {
  "kernelspec": {
   "display_name": "Python 3",
   "language": "python",
   "name": "python3"
  },
  "language_info": {
   "codemirror_mode": {
    "name": "ipython",
    "version": 3
   },
   "file_extension": ".py",
   "mimetype": "text/x-python",
   "name": "python",
   "nbconvert_exporter": "python",
   "pygments_lexer": "ipython3",
   "version": "3.7.3"
  }
 },
 "nbformat": 4,
 "nbformat_minor": 4
}
